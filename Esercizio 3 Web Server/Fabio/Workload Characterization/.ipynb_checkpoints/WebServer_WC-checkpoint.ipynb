{
 "cells": [
  {
   "cell_type": "markdown",
   "metadata": {},
   "source": [
    "# Workload Characterization"
   ]
  },
  {
   "cell_type": "markdown",
   "metadata": {},
   "source": [
    "## Introduction"
   ]
  },
  {
   "cell_type": "markdown",
   "metadata": {},
   "source": [
    "### Import relevant modules"
   ]
  },
  {
   "cell_type": "code",
   "execution_count": 1,
   "metadata": {},
   "outputs": [
    {
     "name": "stderr",
     "output_type": "stream",
     "text": [
      "In C:\\Users\\fabio\\Anaconda3\\lib\\site-packages\\matplotlib\\mpl-data\\stylelib\\_classic_test.mplstyle: \n",
      "The text.latex.preview rcparam was deprecated in Matplotlib 3.3 and will be removed two minor releases later.\n",
      "In C:\\Users\\fabio\\Anaconda3\\lib\\site-packages\\matplotlib\\mpl-data\\stylelib\\_classic_test.mplstyle: \n",
      "The mathtext.fallback_to_cm rcparam was deprecated in Matplotlib 3.3 and will be removed two minor releases later.\n",
      "In C:\\Users\\fabio\\Anaconda3\\lib\\site-packages\\matplotlib\\mpl-data\\stylelib\\_classic_test.mplstyle: Support for setting the 'mathtext.fallback_to_cm' rcParam is deprecated since 3.3 and will be removed two minor releases later; use 'mathtext.fallback : 'cm' instead.\n",
      "In C:\\Users\\fabio\\Anaconda3\\lib\\site-packages\\matplotlib\\mpl-data\\stylelib\\_classic_test.mplstyle: \n",
      "The validate_bool_maybe_none function was deprecated in Matplotlib 3.3 and will be removed two minor releases later.\n",
      "In C:\\Users\\fabio\\Anaconda3\\lib\\site-packages\\matplotlib\\mpl-data\\stylelib\\_classic_test.mplstyle: \n",
      "The savefig.jpeg_quality rcparam was deprecated in Matplotlib 3.3 and will be removed two minor releases later.\n",
      "In C:\\Users\\fabio\\Anaconda3\\lib\\site-packages\\matplotlib\\mpl-data\\stylelib\\_classic_test.mplstyle: \n",
      "The keymap.all_axes rcparam was deprecated in Matplotlib 3.3 and will be removed two minor releases later.\n",
      "In C:\\Users\\fabio\\Anaconda3\\lib\\site-packages\\matplotlib\\mpl-data\\stylelib\\_classic_test.mplstyle: \n",
      "The animation.avconv_path rcparam was deprecated in Matplotlib 3.3 and will be removed two minor releases later.\n",
      "In C:\\Users\\fabio\\Anaconda3\\lib\\site-packages\\matplotlib\\mpl-data\\stylelib\\_classic_test.mplstyle: \n",
      "The animation.avconv_args rcparam was deprecated in Matplotlib 3.3 and will be removed two minor releases later.\n"
     ]
    }
   ],
   "source": [
    "# Data Analysis\n",
    "import pandas as pd\n",
    "\n",
    "# Data Visualization\n",
    "from matplotlib import pyplot as plt\n",
    "\n",
    "# Machine Learning\n",
    "from sklearn.preprocessing import StandardScaler\n",
    "from sklearn.decomposition import PCA\n",
    "from sklearn.cluster import AgglomerativeClustering\n",
    "\n",
    "# Utilities\n",
    "import numpy as np\n",
    "# import warnings"
   ]
  },
  {
   "cell_type": "code",
   "execution_count": 2,
   "metadata": {},
   "outputs": [],
   "source": [
    "%config InlineBackend.figure_format = 'retina'"
   ]
  },
  {
   "cell_type": "markdown",
   "metadata": {},
   "source": [
    "### Read data"
   ]
  },
  {
   "cell_type": "markdown",
   "metadata": {},
   "source": [
    "#### High level parameters"
   ]
  },
  {
   "cell_type": "code",
   "execution_count": 20,
   "metadata": {},
   "outputs": [
    {
     "data": {
      "text/html": [
       "<div>\n",
       "<style scoped>\n",
       "    .dataframe tbody tr th:only-of-type {\n",
       "        vertical-align: middle;\n",
       "    }\n",
       "\n",
       "    .dataframe tbody tr th {\n",
       "        vertical-align: top;\n",
       "    }\n",
       "\n",
       "    .dataframe thead th {\n",
       "        text-align: right;\n",
       "    }\n",
       "</style>\n",
       "<table border=\"1\" class=\"dataframe\">\n",
       "  <thead>\n",
       "    <tr style=\"text-align: right;\">\n",
       "      <th></th>\n",
       "      <th>timeStamp</th>\n",
       "      <th>elapsed</th>\n",
       "      <th>label</th>\n",
       "      <th>responseCode</th>\n",
       "      <th>responseMessage</th>\n",
       "      <th>threadName</th>\n",
       "      <th>dataType</th>\n",
       "      <th>success</th>\n",
       "      <th>failureMessage</th>\n",
       "      <th>bytes</th>\n",
       "      <th>sentBytes</th>\n",
       "      <th>grpThreads</th>\n",
       "      <th>allThreads</th>\n",
       "      <th>URL</th>\n",
       "      <th>Latency</th>\n",
       "      <th>IdleTime</th>\n",
       "      <th>Connect</th>\n",
       "    </tr>\n",
       "  </thead>\n",
       "  <tbody>\n",
       "    <tr>\n",
       "      <th>0</th>\n",
       "      <td>1609257155820</td>\n",
       "      <td>44</td>\n",
       "      <td>HTTP Request - Repubblica Home</td>\n",
       "      <td>200</td>\n",
       "      <td>OK</td>\n",
       "      <td>Thread Group - Fast 2-1</td>\n",
       "      <td>text</td>\n",
       "      <td>True</td>\n",
       "      <td>NaN</td>\n",
       "      <td>387753</td>\n",
       "      <td>135</td>\n",
       "      <td>1</td>\n",
       "      <td>2</td>\n",
       "      <td>http://192.168.56.101/RepubblicaHome.html</td>\n",
       "      <td>41</td>\n",
       "      <td>0</td>\n",
       "      <td>27</td>\n",
       "    </tr>\n",
       "    <tr>\n",
       "      <th>1</th>\n",
       "      <td>1609257155820</td>\n",
       "      <td>44</td>\n",
       "      <td>HTTP Request - Reddit Home</td>\n",
       "      <td>200</td>\n",
       "      <td>OK</td>\n",
       "      <td>Thread Group - Slow 1-1</td>\n",
       "      <td>text</td>\n",
       "      <td>True</td>\n",
       "      <td>NaN</td>\n",
       "      <td>911062</td>\n",
       "      <td>131</td>\n",
       "      <td>1</td>\n",
       "      <td>2</td>\n",
       "      <td>http://192.168.56.101/RedditHome.html</td>\n",
       "      <td>41</td>\n",
       "      <td>0</td>\n",
       "      <td>27</td>\n",
       "    </tr>\n",
       "    <tr>\n",
       "      <th>2</th>\n",
       "      <td>1609257156192</td>\n",
       "      <td>14</td>\n",
       "      <td>HTTP Request - Reddit Home</td>\n",
       "      <td>200</td>\n",
       "      <td>OK</td>\n",
       "      <td>Thread Group - Slow 1-2</td>\n",
       "      <td>text</td>\n",
       "      <td>True</td>\n",
       "      <td>NaN</td>\n",
       "      <td>911062</td>\n",
       "      <td>131</td>\n",
       "      <td>2</td>\n",
       "      <td>4</td>\n",
       "      <td>http://192.168.56.101/RedditHome.html</td>\n",
       "      <td>3</td>\n",
       "      <td>0</td>\n",
       "      <td>2</td>\n",
       "    </tr>\n",
       "    <tr>\n",
       "      <th>3</th>\n",
       "      <td>1609257156206</td>\n",
       "      <td>7</td>\n",
       "      <td>HTTP Request - Repubblica Home</td>\n",
       "      <td>200</td>\n",
       "      <td>OK</td>\n",
       "      <td>Thread Group - Fast 2-2</td>\n",
       "      <td>text</td>\n",
       "      <td>True</td>\n",
       "      <td>NaN</td>\n",
       "      <td>387753</td>\n",
       "      <td>135</td>\n",
       "      <td>2</td>\n",
       "      <td>4</td>\n",
       "      <td>http://192.168.56.101/RepubblicaHome.html</td>\n",
       "      <td>2</td>\n",
       "      <td>0</td>\n",
       "      <td>1</td>\n",
       "    </tr>\n",
       "    <tr>\n",
       "      <th>4</th>\n",
       "      <td>1609257156306</td>\n",
       "      <td>3</td>\n",
       "      <td>HTTP Request - Repubblica Page</td>\n",
       "      <td>200</td>\n",
       "      <td>OK</td>\n",
       "      <td>Thread Group - Fast 2-1</td>\n",
       "      <td>text</td>\n",
       "      <td>True</td>\n",
       "      <td>NaN</td>\n",
       "      <td>141098</td>\n",
       "      <td>135</td>\n",
       "      <td>2</td>\n",
       "      <td>4</td>\n",
       "      <td>http://192.168.56.101/RepubblicaPage.html</td>\n",
       "      <td>2</td>\n",
       "      <td>0</td>\n",
       "      <td>0</td>\n",
       "    </tr>\n",
       "  </tbody>\n",
       "</table>\n",
       "</div>"
      ],
      "text/plain": [
       "       timeStamp  elapsed                           label  responseCode  \\\n",
       "0  1609257155820       44  HTTP Request - Repubblica Home           200   \n",
       "1  1609257155820       44      HTTP Request - Reddit Home           200   \n",
       "2  1609257156192       14      HTTP Request - Reddit Home           200   \n",
       "3  1609257156206        7  HTTP Request - Repubblica Home           200   \n",
       "4  1609257156306        3  HTTP Request - Repubblica Page           200   \n",
       "\n",
       "  responseMessage               threadName dataType  success  failureMessage  \\\n",
       "0              OK  Thread Group - Fast 2-1     text     True             NaN   \n",
       "1              OK  Thread Group - Slow 1-1     text     True             NaN   \n",
       "2              OK  Thread Group - Slow 1-2     text     True             NaN   \n",
       "3              OK  Thread Group - Fast 2-2     text     True             NaN   \n",
       "4              OK  Thread Group - Fast 2-1     text     True             NaN   \n",
       "\n",
       "    bytes  sentBytes  grpThreads  allThreads  \\\n",
       "0  387753        135           1           2   \n",
       "1  911062        131           1           2   \n",
       "2  911062        131           2           4   \n",
       "3  387753        135           2           4   \n",
       "4  141098        135           2           4   \n",
       "\n",
       "                                         URL  Latency  IdleTime  Connect  \n",
       "0  http://192.168.56.101/RepubblicaHome.html       41         0       27  \n",
       "1      http://192.168.56.101/RedditHome.html       41         0       27  \n",
       "2      http://192.168.56.101/RedditHome.html        3         0        2  \n",
       "3  http://192.168.56.101/RepubblicaHome.html        2         0        1  \n",
       "4  http://192.168.56.101/RepubblicaPage.html        2         0        0  "
      ]
     },
     "execution_count": 20,
     "metadata": {},
     "output_type": "execute_result"
    }
   ],
   "source": [
    "df_high = pd.read_csv('WC_report_client.csv')\n",
    "df_high.head()"
   ]
  },
  {
   "cell_type": "code",
   "execution_count": 21,
   "metadata": {},
   "outputs": [
    {
     "name": "stdout",
     "output_type": "stream",
     "text": [
      "The dataset contains 17 columns and 7454 rows\n"
     ]
    }
   ],
   "source": [
    "print('The dataset contains', df_high.shape[1], 'columns and', df_high.shape[0], 'rows')"
   ]
  },
  {
   "cell_type": "code",
   "execution_count": 22,
   "metadata": {},
   "outputs": [
    {
     "data": {
      "text/plain": [
       "True"
      ]
     },
     "execution_count": 22,
     "metadata": {},
     "output_type": "execute_result"
    }
   ],
   "source": [
    "df_high['success'].all()"
   ]
  },
  {
   "cell_type": "markdown",
   "metadata": {},
   "source": [
    "#### Low level parameters"
   ]
  },
  {
   "cell_type": "code",
   "execution_count": 44,
   "metadata": {},
   "outputs": [
    {
     "data": {
      "text/html": [
       "<div>\n",
       "<style scoped>\n",
       "    .dataframe tbody tr th:only-of-type {\n",
       "        vertical-align: middle;\n",
       "    }\n",
       "\n",
       "    .dataframe tbody tr th {\n",
       "        vertical-align: top;\n",
       "    }\n",
       "\n",
       "    .dataframe thead th {\n",
       "        text-align: right;\n",
       "    }\n",
       "</style>\n",
       "<table border=\"1\" class=\"dataframe\">\n",
       "  <thead>\n",
       "    <tr style=\"text-align: right;\">\n",
       "      <th></th>\n",
       "      <th>procs_r</th>\n",
       "      <th>procs_r</th>\n",
       "      <th>memory_swpd</th>\n",
       "      <th>memory_free</th>\n",
       "      <th>memory_buff</th>\n",
       "      <th>memory_cache</th>\n",
       "      <th>swap_si</th>\n",
       "      <th>swap_so</th>\n",
       "      <th>io_bi</th>\n",
       "      <th>io_bo</th>\n",
       "      <th>system_in</th>\n",
       "      <th>system_cs</th>\n",
       "      <th>cpu_us</th>\n",
       "      <th>cpu_sy</th>\n",
       "      <th>cpu_id</th>\n",
       "      <th>cpu_wa</th>\n",
       "      <th>cpu_st</th>\n",
       "    </tr>\n",
       "  </thead>\n",
       "  <tbody>\n",
       "    <tr>\n",
       "      <th>0</th>\n",
       "      <td>4</td>\n",
       "      <td>0</td>\n",
       "      <td>254148</td>\n",
       "      <td>121724</td>\n",
       "      <td>56628</td>\n",
       "      <td>1332972</td>\n",
       "      <td>4</td>\n",
       "      <td>20</td>\n",
       "      <td>143</td>\n",
       "      <td>217</td>\n",
       "      <td>245</td>\n",
       "      <td>1285</td>\n",
       "      <td>12</td>\n",
       "      <td>2</td>\n",
       "      <td>84</td>\n",
       "      <td>2</td>\n",
       "      <td>0</td>\n",
       "    </tr>\n",
       "    <tr>\n",
       "      <th>1</th>\n",
       "      <td>0</td>\n",
       "      <td>0</td>\n",
       "      <td>254148</td>\n",
       "      <td>121716</td>\n",
       "      <td>56632</td>\n",
       "      <td>1333004</td>\n",
       "      <td>0</td>\n",
       "      <td>0</td>\n",
       "      <td>0</td>\n",
       "      <td>72</td>\n",
       "      <td>139</td>\n",
       "      <td>370</td>\n",
       "      <td>6</td>\n",
       "      <td>0</td>\n",
       "      <td>85</td>\n",
       "      <td>9</td>\n",
       "      <td>0</td>\n",
       "    </tr>\n",
       "    <tr>\n",
       "      <th>2</th>\n",
       "      <td>0</td>\n",
       "      <td>0</td>\n",
       "      <td>254148</td>\n",
       "      <td>121716</td>\n",
       "      <td>56632</td>\n",
       "      <td>1333008</td>\n",
       "      <td>0</td>\n",
       "      <td>0</td>\n",
       "      <td>0</td>\n",
       "      <td>0</td>\n",
       "      <td>59</td>\n",
       "      <td>100</td>\n",
       "      <td>0</td>\n",
       "      <td>0</td>\n",
       "      <td>100</td>\n",
       "      <td>0</td>\n",
       "      <td>0</td>\n",
       "    </tr>\n",
       "    <tr>\n",
       "      <th>3</th>\n",
       "      <td>0</td>\n",
       "      <td>0</td>\n",
       "      <td>254148</td>\n",
       "      <td>121716</td>\n",
       "      <td>56632</td>\n",
       "      <td>1333008</td>\n",
       "      <td>0</td>\n",
       "      <td>0</td>\n",
       "      <td>0</td>\n",
       "      <td>0</td>\n",
       "      <td>70</td>\n",
       "      <td>123</td>\n",
       "      <td>0</td>\n",
       "      <td>0</td>\n",
       "      <td>100</td>\n",
       "      <td>0</td>\n",
       "      <td>0</td>\n",
       "    </tr>\n",
       "    <tr>\n",
       "      <th>4</th>\n",
       "      <td>0</td>\n",
       "      <td>0</td>\n",
       "      <td>254148</td>\n",
       "      <td>121716</td>\n",
       "      <td>56632</td>\n",
       "      <td>1333008</td>\n",
       "      <td>0</td>\n",
       "      <td>0</td>\n",
       "      <td>0</td>\n",
       "      <td>0</td>\n",
       "      <td>107</td>\n",
       "      <td>4209</td>\n",
       "      <td>8</td>\n",
       "      <td>3</td>\n",
       "      <td>89</td>\n",
       "      <td>0</td>\n",
       "      <td>0</td>\n",
       "    </tr>\n",
       "  </tbody>\n",
       "</table>\n",
       "</div>"
      ],
      "text/plain": [
       "   procs_r  procs_r  memory_swpd  memory_free  memory_buff  memory_cache  \\\n",
       "0        4        0       254148       121724        56628       1332972   \n",
       "1        0        0       254148       121716        56632       1333004   \n",
       "2        0        0       254148       121716        56632       1333008   \n",
       "3        0        0       254148       121716        56632       1333008   \n",
       "4        0        0       254148       121716        56632       1333008   \n",
       "\n",
       "   swap_si  swap_so  io_bi  io_bo  system_in  system_cs  cpu_us  cpu_sy  \\\n",
       "0        4       20    143    217        245       1285      12       2   \n",
       "1        0        0      0     72        139        370       6       0   \n",
       "2        0        0      0      0         59        100       0       0   \n",
       "3        0        0      0      0         70        123       0       0   \n",
       "4        0        0      0      0        107       4209       8       3   \n",
       "\n",
       "   cpu_id  cpu_wa  cpu_st  \n",
       "0      84       2       0  \n",
       "1      85       9       0  \n",
       "2     100       0       0  \n",
       "3     100       0       0  \n",
       "4      89       0       0  "
      ]
     },
     "execution_count": 44,
     "metadata": {},
     "output_type": "execute_result"
    }
   ],
   "source": [
    "df_low = pd.read_csv('WC_report_server.csv', sep='\\s+', skiprows=1)\n",
    "df_low.rename(columns={'r':'procs_r', 'b':'procs_r',\n",
    "                       'swpd':'memory_swpd', 'free':'memory_free', 'buff':'memory_buff', 'cache':'memory_cache', \n",
    "                       'si':'swap_si', 'so':'swap_so', \n",
    "                       'bi':'io_bi', 'bo':'io_bo',\n",
    "                       'in':'system_in', 'cs':'system_cs',\n",
    "                       'us':'cpu_us', 'sy':'cpu_sy', 'id':'cpu_id', 'wa':'cpu_wa', 'st':'cpu_st'\n",
    "                      }, inplace=True)\n",
    "df_low.head()"
   ]
  },
  {
   "cell_type": "code",
   "execution_count": 45,
   "metadata": {},
   "outputs": [
    {
     "name": "stdout",
     "output_type": "stream",
     "text": [
      "The dataset contains 17 columns and 310 rows\n"
     ]
    }
   ],
   "source": [
    "print('The dataset contains', df_low.shape[1], 'columns and', df_low.shape[0], 'rows')"
   ]
  }
 ],
 "metadata": {
  "kernelspec": {
   "display_name": "Python 3",
   "language": "python",
   "name": "python3"
  },
  "language_info": {
   "codemirror_mode": {
    "name": "ipython",
    "version": 3
   },
   "file_extension": ".py",
   "mimetype": "text/x-python",
   "name": "python",
   "nbconvert_exporter": "python",
   "pygments_lexer": "ipython3",
   "version": "3.7.4"
  },
  "toc": {
   "base_numbering": 1,
   "nav_menu": {},
   "number_sections": true,
   "sideBar": true,
   "skip_h1_title": false,
   "title_cell": "Table of Contents",
   "title_sidebar": "Contents",
   "toc_cell": false,
   "toc_position": {},
   "toc_section_display": true,
   "toc_window_display": true
  }
 },
 "nbformat": 4,
 "nbformat_minor": 2
}
