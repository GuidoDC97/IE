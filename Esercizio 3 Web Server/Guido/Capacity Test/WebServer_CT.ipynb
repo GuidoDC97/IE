{
 "cells": [
  {
   "cell_type": "markdown",
   "metadata": {},
   "source": [
    "# Capacity Test"
   ]
  },
  {
   "cell_type": "code",
   "execution_count": 51,
   "metadata": {},
   "outputs": [],
   "source": [
    "# Data Analysis\n",
    "import pandas as pd\n",
    "\n",
    "# Data Visualization\n",
    "from matplotlib import pyplot as plt\n",
    "import seaborn as sns\n",
    "\n",
    "# Utilities\n",
    "import numpy as np\n",
    "# from tqdm import tnrange\n",
    "import pickle\n",
    "import os\n",
    "from tqdm import tqdm_notebook as tqdmn\n",
    "# import warnings"
   ]
  },
  {
   "cell_type": "code",
   "execution_count": 52,
   "metadata": {},
   "outputs": [],
   "source": [
    "%config InlineBackend.figure_format = 'retina'"
   ]
  },
  {
   "cell_type": "code",
   "execution_count": 118,
   "metadata": {},
   "outputs": [],
   "source": [
    "# nominal_rates_min = [1,2,3,4,5,6,7,8,9,10,15]\n",
    "# rep = 2\n",
    "# description = {}\n",
    "\n",
    "# for rate_min in nominal_rates_min:\n",
    "#     for i in np.arange(1,rep+1):\n",
    "#         df = pd.read_csv('dataset/' + str(rate_min) + 'k_0' + str(i) + '.jtl')\n",
    "#         descr_name = str(rate_min) + 'k_0' + str(i) \n",
    "#         description[descr_name] = df.elapsed.describe()\n",
    "\n",
    "# description"
   ]
  },
  {
   "cell_type": "code",
   "execution_count": 125,
   "metadata": {
    "scrolled": true
   },
   "outputs": [
    {
     "name": "stdout",
     "output_type": "stream",
     "text": [
      "\n",
      "Total requests: 1084\n",
      "Nominal request rate: 16.666666666666668\n",
      "Actual request rate: 18.066666666666666\n",
      "Errors: 2 (0.18450184501845018 %)\n",
      "Avg elapsed time: 25.26709796672828\n",
      "Throughput: 18.033333333333335\n",
      "\n",
      "Total requests: 1085\n",
      "Nominal request rate: 16.666666666666668\n",
      "Actual request rate: 18.083333333333332\n",
      "Errors: 5 (0.4608294930875576 %)\n",
      "Avg elapsed time: 28.32777777777778\n",
      "Throughput: 18.0\n",
      "\n",
      "------------------------------------------\n",
      "\n",
      "\n",
      "Total requests: 2074\n",
      "Nominal request rate: 33.333333333333336\n",
      "Actual request rate: 34.56666666666667\n",
      "Errors: 0 (0.0 %)\n",
      "Avg elapsed time: 15.967695274831245\n",
      "Throughput: 34.56666666666667\n",
      "\n",
      "Total requests: 2071\n",
      "Nominal request rate: 33.333333333333336\n",
      "Actual request rate: 34.516666666666666\n",
      "Errors: 0 (0.0 %)\n",
      "Avg elapsed time: 17.680347658136167\n",
      "Throughput: 34.516666666666666\n",
      "\n",
      "------------------------------------------\n",
      "\n",
      "\n",
      "Total requests: 3064\n",
      "Nominal request rate: 50.0\n",
      "Actual request rate: 51.06666666666667\n",
      "Errors: 0 (0.0 %)\n",
      "Avg elapsed time: 15.99934725848564\n",
      "Throughput: 51.06666666666667\n",
      "\n",
      "Total requests: 3053\n",
      "Nominal request rate: 50.0\n",
      "Actual request rate: 50.88333333333333\n",
      "Errors: 0 (0.0 %)\n",
      "Avg elapsed time: 22.072060268588274\n",
      "Throughput: 50.88333333333333\n",
      "\n",
      "------------------------------------------\n",
      "\n",
      "\n",
      "Total requests: 4060\n",
      "Nominal request rate: 66.66666666666667\n",
      "Actual request rate: 67.66666666666667\n",
      "Errors: 0 (0.0 %)\n",
      "Avg elapsed time: 19.72118226600985\n",
      "Throughput: 67.66666666666667\n",
      "\n",
      "Total requests: 4054\n",
      "Nominal request rate: 66.66666666666667\n",
      "Actual request rate: 67.56666666666666\n",
      "Errors: 0 (0.0 %)\n",
      "Avg elapsed time: 19.873211642821904\n",
      "Throughput: 67.56666666666666\n",
      "\n",
      "------------------------------------------\n",
      "\n",
      "\n",
      "Total requests: 5054\n",
      "Nominal request rate: 83.33333333333333\n",
      "Actual request rate: 84.23333333333333\n",
      "Errors: 0 (0.0 %)\n",
      "Avg elapsed time: 24.98773248911753\n",
      "Throughput: 84.23333333333333\n",
      "\n",
      "Total requests: 5047\n",
      "Nominal request rate: 83.33333333333333\n",
      "Actual request rate: 84.11666666666666\n",
      "Errors: 0 (0.0 %)\n",
      "Avg elapsed time: 20.015851000594413\n",
      "Throughput: 84.11666666666666\n",
      "\n",
      "------------------------------------------\n",
      "\n",
      "\n",
      "Total requests: 6039\n",
      "Nominal request rate: 100.0\n",
      "Actual request rate: 100.65\n",
      "Errors: 0 (0.0 %)\n",
      "Avg elapsed time: 39.866037423414475\n",
      "Throughput: 100.65\n",
      "\n",
      "Total requests: 6039\n",
      "Nominal request rate: 100.0\n",
      "Actual request rate: 100.65\n",
      "Errors: 0 (0.0 %)\n",
      "Avg elapsed time: 29.979963570127506\n",
      "Throughput: 100.65\n",
      "\n",
      "------------------------------------------\n",
      "\n",
      "\n",
      "Total requests: 7028\n",
      "Nominal request rate: 116.66666666666667\n",
      "Actual request rate: 117.13333333333334\n",
      "Errors: 0 (0.0 %)\n",
      "Avg elapsed time: 55.0885031303358\n",
      "Throughput: 117.13333333333334\n",
      "\n",
      "Total requests: 7006\n",
      "Nominal request rate: 116.66666666666667\n",
      "Actual request rate: 116.76666666666667\n",
      "Errors: 0 (0.0 %)\n",
      "Avg elapsed time: 73.06965458178703\n",
      "Throughput: 116.76666666666667\n",
      "\n",
      "------------------------------------------\n",
      "\n",
      "\n",
      "Total requests: 7995\n",
      "Nominal request rate: 133.33333333333334\n",
      "Actual request rate: 133.25\n",
      "Errors: 0 (0.0 %)\n",
      "Avg elapsed time: 101.19387116948093\n",
      "Throughput: 133.25\n",
      "\n",
      "Total requests: 7969\n",
      "Nominal request rate: 133.33333333333334\n",
      "Actual request rate: 132.81666666666666\n",
      "Errors: 0 (0.0 %)\n",
      "Avg elapsed time: 83.63194880160623\n",
      "Throughput: 132.81666666666666\n",
      "\n",
      "------------------------------------------\n",
      "\n",
      "\n",
      "Total requests: 8247\n",
      "Nominal request rate: 150.0\n",
      "Actual request rate: 137.45\n",
      "Errors: 24 (0.29101491451436884 %)\n",
      "Avg elapsed time: 203.65815395840934\n",
      "Throughput: 137.05\n",
      "\n",
      "Total requests: 8252\n",
      "Nominal request rate: 150.0\n",
      "Actual request rate: 137.53333333333333\n",
      "Errors: 28 (0.3393116820164809 %)\n",
      "Avg elapsed time: 191.64530642023345\n",
      "Throughput: 137.06666666666666\n",
      "\n",
      "------------------------------------------\n",
      "\n",
      "\n",
      "Total requests: 8270\n",
      "Nominal request rate: 166.66666666666666\n",
      "Actual request rate: 137.83333333333334\n",
      "Errors: 50 (0.6045949214026602 %)\n",
      "Avg elapsed time: 254.6493917274939\n",
      "Throughput: 137.0\n",
      "\n",
      "Total requests: 8303\n",
      "Nominal request rate: 166.66666666666666\n",
      "Actual request rate: 138.38333333333333\n",
      "Errors: 53 (0.6383234975310128 %)\n",
      "Avg elapsed time: 284.79333333333335\n",
      "Throughput: 137.5\n",
      "\n",
      "------------------------------------------\n",
      "\n",
      "\n",
      "Total requests: 8354\n",
      "Nominal request rate: 250.0\n",
      "Actual request rate: 139.23333333333332\n",
      "Errors: 89 (1.0653579123773043 %)\n",
      "Avg elapsed time: 476.95934664246823\n",
      "Throughput: 137.75\n",
      "\n",
      "Total requests: 8369\n",
      "Nominal request rate: 250.0\n",
      "Actual request rate: 139.48333333333332\n",
      "Errors: 80 (0.9559087107181264 %)\n",
      "Avg elapsed time: 437.85366147906865\n",
      "Throughput: 138.15\n",
      "\n",
      "------------------------------------------\n",
      "\n"
     ]
    }
   ],
   "source": [
    "nominal_rates_min = [1,2,3,4,5,6,7,8,9,10,15]\n",
    "rep = 2\n",
    "duration = 60\n",
    "\n",
    "throughput = []\n",
    "response_time = []\n",
    "request_rate = []\n",
    "\n",
    "description = {}\n",
    "\n",
    "for rate_min in nominal_rates_min:\n",
    "    \n",
    "    request_rate_avg = []    \n",
    "    response_time_avg = []\n",
    "    throughput_avg = []\n",
    "    \n",
    "    for i in np.arange(1, rep+1):\n",
    "\n",
    "        df = pd.read_csv('dataset/' + str(rate_min) + 'k_0' + str(i) + '.jtl')\n",
    "        \n",
    "        descr_name = str(rate_min) + 'k_0' + str(i)\n",
    "        description[descr_name] = df.elapsed.describe()\n",
    "        \n",
    "        tot_req = df.shape[0]\n",
    "        print('Total requests:', tot_req)\n",
    "\n",
    "        nominal_rate = rate_min*1000/60\n",
    "        print('Nominal request rate:', nominal_rate)\n",
    "\n",
    "    #     duration = (df.timeStamp[df.shape[0]-1]-df.timeStamp[0])/1000\n",
    "        actual_rate = tot_req/duration\n",
    "        print('Actual request rate:', actual_rate)\n",
    "\n",
    "        err = (df['success'] == False).sum()\n",
    "        print('Errors:', err, '(' + str(err/tot_req*100) + ' %)')\n",
    "\n",
    "        elaps = df.loc[df['success']==True, 'elapsed'].mean()\n",
    "#         elaps = df.loc[df['success']==True, 'elapsed'].median()\n",
    "        print('Avg elapsed time:', elaps)\n",
    "\n",
    "        tp = (tot_req-err)/60       \n",
    "        print('Throughput:', tp)\n",
    "\n",
    "        print()\n",
    "        \n",
    "        request_rate_avg.append(actual_rate)\n",
    "        response_time_avg.append(elaps)\n",
    "        throughput_avg.append(tp)\n",
    "    \n",
    "    print('------------------------------------------')\n",
    "    print()\n",
    "        \n",
    "    request_rate.append(nominal_rate)\n",
    "#     request_rate.append(np.mean(request_rate_avg))\n",
    "    response_time.append(np.mean(response_time_avg))\n",
    "    throughput.append(np.mean(throughput_avg))"
   ]
  },
  {
   "cell_type": "code",
   "execution_count": 126,
   "metadata": {},
   "outputs": [
    {
     "data": {
      "text/plain": [
       "[<matplotlib.lines.Line2D at 0x271276d1550>]"
      ]
     },
     "execution_count": 126,
     "metadata": {},
     "output_type": "execute_result"
    },
    {
     "data": {
      "image/png": "[encoded data removed]",
      "text/plain": [
       "<Figure size 432x288 with 1 Axes>"
      ]
     },
     "metadata": {
      "image/png": {
       "height": 248,
       "width": 375
      },
      "needs_background": "light"
     },
     "output_type": "display_data"
    }
   ],
   "source": [
    "plt.plot(request_rate, response_time)"
   ]
  },
  {
   "cell_type": "code",
   "execution_count": 127,
   "metadata": {},
   "outputs": [
    {
     "data": {
      "text/plain": [
       "[<matplotlib.lines.Line2D at 0x271277254e0>]"
      ]
     },
     "execution_count": 127,
     "metadata": {},
     "output_type": "execute_result"
    },
    {
     "data": {
      "image/png": "[encoded data removed]",
      "text/plain": [
       "<Figure size 432x288 with 1 Axes>"
      ]
     },
     "metadata": {
      "image/png": {
       "height": 248,
       "width": 375
      },
      "needs_background": "light"
     },
     "output_type": "display_data"
    }
   ],
   "source": [
    "plt.plot(request_rate, throughput)"
   ]
  },
  {
   "cell_type": "code",
   "execution_count": 128,
   "metadata": {},
   "outputs": [
    {
     "data": {
      "text/plain": [
       "[<matplotlib.lines.Line2D at 0x271277803c8>]"
      ]
     },
     "execution_count": 128,
     "metadata": {},
     "output_type": "execute_result"
    },
    {
     "data": {
      "image/png": "[encoded data removed]",
      "text/plain": [
       "<Figure size 432x288 with 1 Axes>"
      ]
     },
     "metadata": {
      "image/png": {
       "height": 248,
       "width": 372
      },
      "needs_background": "light"
     },
     "output_type": "display_data"
    }
   ],
   "source": [
    "power = [throughput[i]/response_time[i] for i in range(len(throughput))]\n",
    "\n",
    "plt.plot(request_rate, power)"
   ]
  }
 ],
 "metadata": {
  "kernelspec": {
   "display_name": "Python 3",
   "language": "python",
   "name": "python3"
  },
  "language_info": {
   "codemirror_mode": {
    "name": "ipython",
    "version": 3
   },
   "file_extension": ".py",
   "mimetype": "text/x-python",
   "name": "python",
   "nbconvert_exporter": "python",
   "pygments_lexer": "ipython3",
   "version": "3.7.3"
  },
  "toc": {
   "base_numbering": 1,
   "nav_menu": {},
   "number_sections": true,
   "sideBar": true,
   "skip_h1_title": false,
   "title_cell": "Table of Contents",
   "title_sidebar": "Contents",
   "toc_cell": false,
   "toc_position": {
    "height": "calc(100% - 180px)",
    "left": "10px",
    "top": "150px",
    "width": "256.2px"
   },
   "toc_section_display": true,
   "toc_window_display": true
  }
 },
 "nbformat": 4,
 "nbformat_minor": 4
}
