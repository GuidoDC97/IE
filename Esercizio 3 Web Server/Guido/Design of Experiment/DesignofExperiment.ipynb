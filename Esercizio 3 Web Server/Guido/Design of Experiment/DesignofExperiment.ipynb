{
 "cells": [
  {
   "cell_type": "code",
   "execution_count": 1,
   "metadata": {},
   "outputs": [],
   "source": [
    "# Data Analysis\n",
    "import pandas as pd\n",
    "\n",
    "# Data Visualization\n",
    "from matplotlib import pyplot as plt\n",
    "import seaborn as sns\n",
    "\n",
    "# Utilities\n",
    "import numpy as np\n",
    "# from tqdm import tnrange\n",
    "import pickle\n",
    "import os\n",
    "from tqdm import tqdm_notebook as tqdmn\n",
    "# import warnings"
   ]
  },
  {
   "cell_type": "code",
   "execution_count": 27,
   "metadata": {},
   "outputs": [],
   "source": [
    "req_rate_levels = ['L']\n",
    "type_levels = ['L','M','H']\n",
    "\n",
    "rep = 1\n",
    "\n",
    "df_table = pd.DataFrame(columns=['Request rate','Request type', 'Response time'])\n",
    "\n",
    "for req_rate in req_rate_levels:    \n",
    "\n",
    "    for t in type_levels:\n",
    "\n",
    "        for i in range(rep):\n",
    "            \n",
    "            df = pd.read_csv('dataset/' + req_rate + t + '_0' + str(i+1) + '.jtl')\n",
    "            \n",
    "            elaps = df.loc[df['success']==True, 'elapsed'].mean()\n",
    "            \n",
    "            df_table = df_table.append({'Request rate' : req_rate, 'Request type' : t, 'Response time' : elaps}, ignore_index=True)"
   ]
  },
  {
   "cell_type": "code",
   "execution_count": 26,
   "metadata": {},
   "outputs": [
    {
     "data": {
      "text/html": [
       "<div>\n",
       "<style scoped>\n",
       "    .dataframe tbody tr th:only-of-type {\n",
       "        vertical-align: middle;\n",
       "    }\n",
       "\n",
       "    .dataframe tbody tr th {\n",
       "        vertical-align: top;\n",
       "    }\n",
       "\n",
       "    .dataframe thead th {\n",
       "        text-align: right;\n",
       "    }\n",
       "</style>\n",
       "<table border=\"1\" class=\"dataframe\">\n",
       "  <thead>\n",
       "    <tr style=\"text-align: right;\">\n",
       "      <th></th>\n",
       "      <th>Request rate</th>\n",
       "      <th>Request type</th>\n",
       "      <th>Response time</th>\n",
       "    </tr>\n",
       "  </thead>\n",
       "  <tbody>\n",
       "    <tr>\n",
       "      <th>0</th>\n",
       "      <td>L</td>\n",
       "      <td>L</td>\n",
       "      <td>28.760784</td>\n",
       "    </tr>\n",
       "    <tr>\n",
       "      <th>1</th>\n",
       "      <td>L</td>\n",
       "      <td>M</td>\n",
       "      <td>24.200081</td>\n",
       "    </tr>\n",
       "    <tr>\n",
       "      <th>2</th>\n",
       "      <td>L</td>\n",
       "      <td>H</td>\n",
       "      <td>27.787952</td>\n",
       "    </tr>\n",
       "  </tbody>\n",
       "</table>\n",
       "</div>"
      ],
      "text/plain": [
       "  Request rate Request type  Response time\n",
       "0            L            L      28.760784\n",
       "1            L            M      24.200081\n",
       "2            L            H      27.787952"
      ]
     },
     "execution_count": 26,
     "metadata": {},
     "output_type": "execute_result"
    }
   ],
   "source": [
    "df_table"
   ]
  }
 ],
 "metadata": {
  "kernelspec": {
   "display_name": "Python 3",
   "language": "python",
   "name": "python3"
  },
  "language_info": {
   "codemirror_mode": {
    "name": "ipython",
    "version": 3
   },
   "file_extension": ".py",
   "mimetype": "text/x-python",
   "name": "python",
   "nbconvert_exporter": "python",
   "pygments_lexer": "ipython3",
   "version": "3.7.3"
  }
 },
 "nbformat": 4,
 "nbformat_minor": 4
}
