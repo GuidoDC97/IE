{
 "cells": [
  {
   "cell_type": "code",
   "execution_count": 1,
   "metadata": {},
   "outputs": [],
   "source": [
    "# Data Analysis\n",
    "import pandas as pd\n",
    "\n",
    "# Data Visualization\n",
    "from matplotlib import pyplot as plt\n",
    "import seaborn as sns\n",
    "\n",
    "# Utilities\n",
    "import numpy as np\n",
    "# from tqdm import tnrange\n",
    "import pickle\n",
    "import os\n",
    "from tqdm import tqdm_notebook as tqdmn\n",
    "# import warnings"
   ]
  },
  {
   "cell_type": "code",
   "execution_count": 2,
   "metadata": {},
   "outputs": [
    {
     "name": "stdout",
     "output_type": "stream",
     "text": [
      "Experiment: LL\n",
      "\tRep: 1\n",
      "\t\tTotal requests: 7581\n",
      "\t\tErrors: 0 (0.0 %)\n",
      "\tRep: 2\n",
      "\t\tTotal requests: 7582\n",
      "\t\tErrors: 0 (0.0 %)\n",
      "\tRep: 3\n",
      "\t\tTotal requests: 7583\n",
      "\t\tErrors: 0 (0.0 %)\n",
      "\tRep: 4\n",
      "\t\tTotal requests: 7584\n",
      "\t\tErrors: 0 (0.0 %)\n",
      "\tRep: 5\n",
      "\t\tTotal requests: 7584\n",
      "\t\tErrors: 0 (0.0 %)\n",
      "Experiment: LM\n",
      "\tRep: 1\n",
      "\t\tTotal requests: 7570\n",
      "\t\tErrors: 0 (0.0 %)\n",
      "\tRep: 2\n",
      "\t\tTotal requests: 7571\n",
      "\t\tErrors: 0 (0.0 %)\n",
      "\tRep: 3\n",
      "\t\tTotal requests: 7564\n",
      "\t\tErrors: 0 (0.0 %)\n",
      "\tRep: 4\n",
      "\t\tTotal requests: 7566\n",
      "\t\tErrors: 0 (0.0 %)\n",
      "\tRep: 5\n",
      "\t\tTotal requests: 7572\n",
      "\t\tErrors: 0 (0.0 %)\n",
      "Experiment: LH\n",
      "\tRep: 1\n",
      "\t\tTotal requests: 7523\n",
      "\t\tErrors: 28 (0.37219194470291106 %)\n",
      "\tRep: 2\n",
      "\t\tTotal requests: 7523\n",
      "\t\tErrors: 41 (0.5449953476006912 %)\n",
      "\tRep: 3\n",
      "\t\tTotal requests: 7523\n",
      "\t\tErrors: 90 (1.1963312508307855 %)\n",
      "\tRep: 4\n",
      "\t\tTotal requests: 7521\n",
      "\t\tErrors: 44 (0.585028586624119 %)\n",
      "\tRep: 5\n",
      "\t\tTotal requests: 7526\n",
      "\t\tErrors: 50 (0.6643635397289397 %)\n"
     ]
    }
   ],
   "source": [
    "req_rate_levels = ['L']\n",
    "type_levels = ['L','M','H']\n",
    "\n",
    "rep = 5\n",
    "\n",
    "df_table = pd.DataFrame(columns=['Request rate','Request type', 'Response time'])\n",
    "\n",
    "for req_rate in req_rate_levels:    \n",
    "\n",
    "    for t in type_levels:\n",
    "        \n",
    "        print('Experiment:', req_rate + t)\n",
    "        for i in range(rep):\n",
    "            print('\\tRep:', i+1)\n",
    "            df = pd.read_csv('dataset/' + req_rate + t + '_0' + str(i+1) + '.jtl')\n",
    "    \n",
    "            tot_req = df.shape[0]\n",
    "            print('\\t\\tTotal requests:', tot_req)\n",
    "            \n",
    "            err = (df['success'] == False).sum()\n",
    "            print('\\t\\tErrors:', err, '(' + str(err/tot_req*100) + ' %)')\n",
    "            \n",
    "            elaps = df.loc[df['success']==True, 'elapsed'].mean()\n",
    "            \n",
    "            df_table = df_table.append({'Request rate' : req_rate, 'Request type' : t, 'Response time' : elaps}, ignore_index=True)"
   ]
  },
  {
   "cell_type": "code",
   "execution_count": 4,
   "metadata": {},
   "outputs": [
    {
     "data": {
      "text/html": [
       "<div>\n",
       "<style scoped>\n",
       "    .dataframe tbody tr th:only-of-type {\n",
       "        vertical-align: middle;\n",
       "    }\n",
       "\n",
       "    .dataframe tbody tr th {\n",
       "        vertical-align: top;\n",
       "    }\n",
       "\n",
       "    .dataframe thead th {\n",
       "        text-align: right;\n",
       "    }\n",
       "</style>\n",
       "<table border=\"1\" class=\"dataframe\">\n",
       "  <thead>\n",
       "    <tr style=\"text-align: right;\">\n",
       "      <th></th>\n",
       "      <th>Request rate</th>\n",
       "      <th>Request type</th>\n",
       "      <th>Response time</th>\n",
       "    </tr>\n",
       "  </thead>\n",
       "  <tbody>\n",
       "    <tr>\n",
       "      <th>0</th>\n",
       "      <td>L</td>\n",
       "      <td>L</td>\n",
       "      <td>3.240865</td>\n",
       "    </tr>\n",
       "    <tr>\n",
       "      <th>1</th>\n",
       "      <td>L</td>\n",
       "      <td>M</td>\n",
       "      <td>7.985865</td>\n",
       "    </tr>\n",
       "    <tr>\n",
       "      <th>2</th>\n",
       "      <td>L</td>\n",
       "      <td>H</td>\n",
       "      <td>18.932088</td>\n",
       "    </tr>\n",
       "  </tbody>\n",
       "</table>\n",
       "</div>"
      ],
      "text/plain": [
       "  Request rate Request type  Response time\n",
       "0            L            L       3.240865\n",
       "1            L            M       7.985865\n",
       "2            L            H      18.932088"
      ]
     },
     "execution_count": 4,
     "metadata": {},
     "output_type": "execute_result"
    }
   ],
   "source": [
    "df_table"
   ]
  }
 ],
 "metadata": {
  "kernelspec": {
   "display_name": "Python 3",
   "language": "python",
   "name": "python3"
  },
  "language_info": {
   "codemirror_mode": {
    "name": "ipython",
    "version": 3
   },
   "file_extension": ".py",
   "mimetype": "text/x-python",
   "name": "python",
   "nbconvert_exporter": "python",
   "pygments_lexer": "ipython3",
   "version": "3.7.3"
  }
 },
 "nbformat": 4,
 "nbformat_minor": 4
}
