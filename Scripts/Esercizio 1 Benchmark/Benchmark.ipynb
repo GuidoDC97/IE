{
 "cells": [
  {
   "cell_type": "markdown",
   "metadata": {},
   "source": [
    "# Benchmark"
   ]
  },
  {
   "cell_type": "markdown",
   "metadata": {},
   "source": [
    "## Import relevant module"
   ]
  },
  {
   "cell_type": "code",
   "execution_count": 4,
   "metadata": {},
   "outputs": [],
   "source": [
    "# Data Analysis\n",
    "import pandas as pd\n",
    "\n",
    "# Utilities\n",
    "from math import ceil"
   ]
  },
  {
   "cell_type": "markdown",
   "metadata": {},
   "source": [
    "## Sample size"
   ]
  },
  {
   "cell_type": "code",
   "execution_count": 6,
   "metadata": {},
   "outputs": [],
   "source": [
    "sizes = [1000, 5000, 10000, 20000]\n",
    "systems = ['i7-6500U', 'i7-7700HQ']\n",
    "quantile = 2.776   # alpha = 0.05\n",
    "E = 5\n",
    "\n",
    "for size in sizes:\n",
    "    for sys in systems:\n",
    "        df_sys = {(sys, size) : pd.DataFrame(columns=['Size', 'LDA', 'Align.', 'Time(s)', 'GFlops', 'proc'])}\n",
    "\n",
    "df_dim_sys = {}\n",
    "for sys in systems:\n",
    "    df_dim_sys[sys] = pd.DataFrame(columns=['Size', 'n', 'Sample size'])\n",
    "              \n",
    "for size in sizes:\n",
    "    path = 'Analisi/Precamp_' + str(size) + '.csv'\n",
    "    df_both = pd.read_csv(path, sep=',', skipinitialspace=True, decimal=',')\n",
    "\n",
    "    for sys in systems:\n",
    "        df_sys[(sys,size)] = df_both.loc[df_both['Proc']==sys]\n",
    "        \n",
    "        std = df_sys[(sys,size)]['GFlops'].std()\n",
    "        n = ((std*quantile)/E)**2\n",
    "\n",
    "        df_dim_sys[sys] = df_dim_sys[sys].append({'Size':size, 'N':n, 'Sample size':ceil(n)}, ignore_index=True)"
   ]
  },
  {
   "cell_type": "code",
   "execution_count": 20,
   "metadata": {},
   "outputs": [
    {
     "name": "stdout",
     "output_type": "stream",
     "text": [
      "\\begin{tabular}{lrrr}\n",
      "\\toprule\n",
      "{} &     Size &         N &  Sample size \\\\\n",
      "\\midrule\n",
      "0 &   1000.0 &  7.374850 &          8.0 \\\\\n",
      "1 &   5000.0 &  6.849652 &          7.0 \\\\\n",
      "2 &  10000.0 &  6.154958 &          7.0 \\\\\n",
      "3 &  20000.0 &  1.478745 &          2.0 \\\\\n",
      "\\bottomrule\n",
      "\\end{tabular}\n",
      "\n"
     ]
    }
   ],
   "source": [
    "print(df_dim_sys['i7-6500U'].to_latex())"
   ]
  },
  {
   "cell_type": "code",
   "execution_count": 26,
   "metadata": {},
   "outputs": [
    {
     "name": "stdout",
     "output_type": "stream",
     "text": [
      "\\begin{tabular}{lrrr}\n",
      "\\toprule\n",
      "{} &     Size &         N &  Sample size \\\\\n",
      "\\midrule\n",
      "0 &   1000.0 &  6.586967 &          7.0 \\\\\n",
      "1 &   5000.0 &  4.360716 &          5.0 \\\\\n",
      "2 &  10000.0 &  5.695905 &          6.0 \\\\\n",
      "3 &  20000.0 &  1.979529 &          2.0 \\\\\n",
      "\\bottomrule\n",
      "\\end{tabular}\n",
      "\n"
     ]
    }
   ],
   "source": [
    "print(df_dim_sys['i7-7700HQ'].to_latex())"
   ]
  },
  {
   "cell_type": "code",
   "execution_count": 27,
   "metadata": {},
   "outputs": [
    {
     "name": "stdout",
     "output_type": "stream",
     "text": [
      "\\begin{tabular}{lrrrrrrl}\n",
      "\\toprule\n",
      "{} &  index &   Size &    LDA &  Align. &  Time(s) &   GFlops &      Proc \\\\\n",
      "\\midrule\n",
      "0 &      0 &  10000 &  10000 &       4 &   10.469 &  63.7019 &  i7-6500U \\\\\n",
      "1 &      1 &  10000 &  10000 &       4 &    9.776 &  68.2178 &  i7-6500U \\\\\n",
      "2 &      2 &  10000 &  10000 &       4 &   10.142 &  65.7537 &  i7-6500U \\\\\n",
      "3 &      3 &  10000 &  10000 &       4 &    9.201 &  72.4739 &  i7-6500U \\\\\n",
      "4 &      4 &  10000 &  10000 &       4 &   10.982 &  60.7227 &  i7-6500U \\\\\n",
      "\\bottomrule\n",
      "\\end{tabular}\n",
      "\n"
     ]
    }
   ],
   "source": [
    "print(df_sys[('i7-6500U', 10000)].reset_index().to_latex())"
   ]
  },
  {
   "cell_type": "code",
   "execution_count": null,
   "metadata": {},
   "outputs": [],
   "source": []
  }
 ],
 "metadata": {
  "kernelspec": {
   "display_name": "Python 3",
   "language": "python",
   "name": "python3"
  },
  "language_info": {
   "codemirror_mode": {
    "name": "ipython",
    "version": 3
   },
   "file_extension": ".py",
   "mimetype": "text/x-python",
   "name": "python",
   "nbconvert_exporter": "python",
   "pygments_lexer": "ipython3",
   "version": "3.7.3"
  },
  "toc": {
   "base_numbering": 1,
   "nav_menu": {},
   "number_sections": true,
   "sideBar": true,
   "skip_h1_title": false,
   "title_cell": "Table of Contents",
   "title_sidebar": "Contents",
   "toc_cell": false,
   "toc_position": {},
   "toc_section_display": true,
   "toc_window_display": true
  }
 },
 "nbformat": 4,
 "nbformat_minor": 4
}
