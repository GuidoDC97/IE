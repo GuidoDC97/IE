{
 "cells": [
  {
   "cell_type": "markdown",
   "metadata": {},
   "source": [
    "# Field Failure Data Analysis"
   ]
  },
  {
   "cell_type": "markdown",
   "metadata": {},
   "source": [
    "## Introduction"
   ]
  },
  {
   "cell_type": "code",
   "execution_count": 8,
   "metadata": {},
   "outputs": [],
   "source": [
    "# Import relevant modules\n",
    "import os\n",
    "import numpy as np\n",
    "import pandas as pd\n",
    "from matplotlib import pyplot as plt\n",
    "\n",
    "# %matplotlib notebook\n",
    "# from IPython.core.interactiveshell import InteractiveShell"
   ]
  },
  {
   "cell_type": "code",
   "execution_count": 10,
   "metadata": {
    "jupyter": {
     "source_hidden": true
    }
   },
   "outputs": [],
   "source": [
    "# Utility functions\n",
    "def sensitivity_analysis(dataframe, c_wins, filepath):\n",
    "    if(not os.path.isfile(filepath)):\n",
    "        print('Creating file, this may take a while...\\n')\n",
    "        tuples = []\n",
    "\n",
    "        for win in c_wins:\n",
    "            tup = 1\n",
    "            prev = int(dataframe.loc[0,'Timestamp'])\n",
    "\n",
    "            for index in range(dataframe.shape[0]-1):\n",
    "                succ = int(dataframe.loc[index+1,'Timestamp'])\n",
    "                if  succ - prev >= win:\n",
    "                    tup = tup + 1\n",
    "                prev = succ\n",
    "\n",
    "#             print(str(win)+\" \"+str(tup))    \n",
    "            tuples.append(tup)\n",
    "        \n",
    "        sens_file = open(filepath, 'w')\n",
    "        \n",
    "        for i in range(len(c_wins)):\n",
    "            sens_file.write(str(c_wins[i]) + ' ' + str(tuples[i]) + '\\n')\n",
    "        \n",
    "        sens_file.close()\n",
    "    else:\n",
    "        print('File already exists!\\n')"
   ]
  },
  {
   "cell_type": "markdown",
   "metadata": {},
   "source": [
    "## Mercury"
   ]
  },
  {
   "cell_type": "code",
   "execution_count": 31,
   "metadata": {},
   "outputs": [
    {
     "name": "stdout",
     "output_type": "stream",
     "text": [
      "Log file has 125624 entries and 4 columns.\n"
     ]
    },
    {
     "data": {
      "text/html": [
       "<div>\n",
       "<style scoped>\n",
       "    .dataframe tbody tr th:only-of-type {\n",
       "        vertical-align: middle;\n",
       "    }\n",
       "\n",
       "    .dataframe tbody tr th {\n",
       "        vertical-align: top;\n",
       "    }\n",
       "\n",
       "    .dataframe thead th {\n",
       "        text-align: right;\n",
       "    }\n",
       "</style>\n",
       "<table border=\"1\" class=\"dataframe\">\n",
       "  <thead>\n",
       "    <tr style=\"text-align: right;\">\n",
       "      <th></th>\n",
       "      <th>Timestamp</th>\n",
       "      <th>Node</th>\n",
       "      <th>Subsystem</th>\n",
       "      <th>Message</th>\n",
       "    </tr>\n",
       "  </thead>\n",
       "  <tbody>\n",
       "    <tr>\n",
       "      <th>0</th>\n",
       "      <td>1167637660</td>\n",
       "      <td>tg-c645</td>\n",
       "      <td>PRO</td>\n",
       "      <td>+BEGIN HARDWARE ERROR STATE AT CMC</td>\n",
       "    </tr>\n",
       "    <tr>\n",
       "      <th>1</th>\n",
       "      <td>1167637660</td>\n",
       "      <td>tg-c645</td>\n",
       "      <td>PRO</td>\n",
       "      <td>Device Error Info Section</td>\n",
       "    </tr>\n",
       "    <tr>\n",
       "      <th>2</th>\n",
       "      <td>1167637660</td>\n",
       "      <td>tg-c645</td>\n",
       "      <td>PRO</td>\n",
       "      <td>Error Map: x</td>\n",
       "    </tr>\n",
       "    <tr>\n",
       "      <th>3</th>\n",
       "      <td>1167637720</td>\n",
       "      <td>tg-c645</td>\n",
       "      <td>PRO</td>\n",
       "      <td>+BEGIN HARDWARE ERROR STATE AT CMC</td>\n",
       "    </tr>\n",
       "    <tr>\n",
       "      <th>4</th>\n",
       "      <td>1167637720</td>\n",
       "      <td>tg-c645</td>\n",
       "      <td>PRO</td>\n",
       "      <td>Device Error Info Section</td>\n",
       "    </tr>\n",
       "  </tbody>\n",
       "</table>\n",
       "</div>"
      ],
      "text/plain": [
       "    Timestamp     Node Subsystem                             Message\n",
       "0  1167637660  tg-c645       PRO  +BEGIN HARDWARE ERROR STATE AT CMC\n",
       "1  1167637660  tg-c645       PRO           Device Error Info Section\n",
       "2  1167637660  tg-c645       PRO                        Error Map: x\n",
       "3  1167637720  tg-c645       PRO  +BEGIN HARDWARE ERROR STATE AT CMC\n",
       "4  1167637720  tg-c645       PRO           Device Error Info Section"
      ]
     },
     "execution_count": 31,
     "metadata": {},
     "output_type": "execute_result"
    }
   ],
   "source": [
    "# Load Mercury Data\n",
    "df_mercury = pd.read_csv('Dataset/MercuryErrorLog.txt', names = ['Timestamp', 'Node', 'Subsystem', \"Message\"])\n",
    "\n",
    "df_mercury.loc[:,'Node'] = df_mercury.loc[:,'Timestamp'].str.split(' ', n=3).str[1]\n",
    "df_mercury.loc[:,'Subsystem'] = df_mercury.loc[:,'Timestamp'].str.split(' ', n=3).str[2]\n",
    "df_mercury.loc[:,'Message'] = df_mercury.loc[:,'Timestamp'].str.split(' ', n=3).str[3]\n",
    "df_mercury.loc[:,'Timestamp'] = df_mercury.loc[:,'Timestamp'].str.split(' ', n=3).str[0]\n",
    "\n",
    "print('Log file has ' + str(df_bgl.shape[0]) + ' entries and ' + str(df_bgl.shape[1]) + ' columns.')\n",
    "df_mercury.head()"
   ]
  },
  {
   "cell_type": "markdown",
   "metadata": {},
   "source": [
    "### Data Manipulation"
   ]
  },
  {
   "cell_type": "markdown",
   "metadata": {},
   "source": [
    "#### Sensitivity analysis"
   ]
  },
  {
   "cell_type": "code",
   "execution_count": 6,
   "metadata": {},
   "outputs": [
    {
     "name": "stdout",
     "output_type": "stream",
     "text": [
      "File already exists!\n",
      "\n"
     ]
    },
    {
     "data": {
      "image/png": "[encoded data removed]",
      "text/plain": [
       "<Figure size 432x288 with 1 Axes>"
      ]
     },
     "metadata": {
      "needs_background": "light"
     },
     "output_type": "display_data"
    }
   ],
   "source": [
    "c_wins = np.arange(10,510,10)\n",
    "accuracy = np.arange(50,150,1)\n",
    "c_wins = c_wins.tolist()\n",
    "c_wins.extend(accuracy)\n",
    "c_wins.sort()\n",
    "\n",
    "filepath = 'Dataset/MercurySensitivity.txt'\n",
    "sensitivity_analysis(df_mercury, c_wins, filepath)\n",
    "\n",
    "df_mercury_sensitivity = pd.read_csv(filepath, sep = \" \", names = [\"Time (s)\", \"# Tuples\"])\n",
    "\n",
    "plt.plot(df_mercury_sensitivity[\"Time (s)\"],df_mercury_sensitivity[\"# Tuples\"], label = \"# Tuples\")\n",
    "plt.xticks(np.arange(0, 500, step = 30))\n",
    "plt.xlabel(\"Time (s)\")\n",
    "plt.ylabel(\"Tuples\")\n",
    "plt.legend()\n",
    "plt.grid()"
   ]
  },
  {
   "cell_type": "markdown",
   "metadata": {},
   "source": [
    "## Blue Gene/L"
   ]
  },
  {
   "cell_type": "code",
   "execution_count": 30,
   "metadata": {},
   "outputs": [
    {
     "name": "stdout",
     "output_type": "stream",
     "text": [
      "Log file has 125624 entries and 4 columns.\n"
     ]
    },
    {
     "data": {
      "text/html": [
       "<div>\n",
       "<style scoped>\n",
       "    .dataframe tbody tr th:only-of-type {\n",
       "        vertical-align: middle;\n",
       "    }\n",
       "\n",
       "    .dataframe tbody tr th {\n",
       "        vertical-align: top;\n",
       "    }\n",
       "\n",
       "    .dataframe thead th {\n",
       "        text-align: right;\n",
       "    }\n",
       "</style>\n",
       "<table border=\"1\" class=\"dataframe\">\n",
       "  <thead>\n",
       "    <tr style=\"text-align: right;\">\n",
       "      <th></th>\n",
       "      <th>Timestamp</th>\n",
       "      <th>Node</th>\n",
       "      <th>Card</th>\n",
       "      <th>Message</th>\n",
       "    </tr>\n",
       "  </thead>\n",
       "  <tbody>\n",
       "    <tr>\n",
       "      <th>0</th>\n",
       "      <td>1128621350</td>\n",
       "      <td>R00-M0-N0</td>\n",
       "      <td>J18-U01</td>\n",
       "      <td>Lustre mount FAILED : bglio2 : block_id : loc...</td>\n",
       "    </tr>\n",
       "    <tr>\n",
       "      <th>1</th>\n",
       "      <td>1128621350</td>\n",
       "      <td>R01-M1-N0</td>\n",
       "      <td>J18-U11</td>\n",
       "      <td>Lustre mount FAILED : bglio21 : block_id : lo...</td>\n",
       "    </tr>\n",
       "    <tr>\n",
       "      <th>2</th>\n",
       "      <td>1128621351</td>\n",
       "      <td>R07-M0-NC</td>\n",
       "      <td>J18-U01</td>\n",
       "      <td>Lustre mount FAILED : bglio124 : block_id : l...</td>\n",
       "    </tr>\n",
       "    <tr>\n",
       "      <th>3</th>\n",
       "      <td>1128621351</td>\n",
       "      <td>R00-M0-N4</td>\n",
       "      <td>J18-U01</td>\n",
       "      <td>Lustre mount FAILED : bglio4 : block_id : loc...</td>\n",
       "    </tr>\n",
       "    <tr>\n",
       "      <th>4</th>\n",
       "      <td>1128621351</td>\n",
       "      <td>R02-M0-N4</td>\n",
       "      <td>J18-U01</td>\n",
       "      <td>Lustre mount FAILED : bglio36 : block_id : lo...</td>\n",
       "    </tr>\n",
       "  </tbody>\n",
       "</table>\n",
       "</div>"
      ],
      "text/plain": [
       "    Timestamp       Node     Card  \\\n",
       "0  1128621350  R00-M0-N0  J18-U01   \n",
       "1  1128621350  R01-M1-N0  J18-U11   \n",
       "2  1128621351  R07-M0-NC  J18-U01   \n",
       "3  1128621351  R00-M0-N4  J18-U01   \n",
       "4  1128621351  R02-M0-N4  J18-U01   \n",
       "\n",
       "                                             Message  \n",
       "0   Lustre mount FAILED : bglio2 : block_id : loc...  \n",
       "1   Lustre mount FAILED : bglio21 : block_id : lo...  \n",
       "2   Lustre mount FAILED : bglio124 : block_id : l...  \n",
       "3   Lustre mount FAILED : bglio4 : block_id : loc...  \n",
       "4   Lustre mount FAILED : bglio36 : block_id : lo...  "
      ]
     },
     "execution_count": 30,
     "metadata": {},
     "output_type": "execute_result"
    }
   ],
   "source": [
    "# Load Blue Gene Data\n",
    "df_bgl = pd.read_csv('Dataset/BGLErrorLog.txt', names = ['Timestamp', 'Node', 'Card', \"Message\"])\n",
    "\n",
    "df_bgl.loc[:,'Node'] = df_bgl.loc[:,'Timestamp'].str.split(' ', n=3).str[1]\n",
    "df_bgl.loc[:,'Card'] = df_bgl.loc[:,'Timestamp'].str.split(' ', n=3).str[2]\n",
    "df_bgl.loc[:,'Message'] = df_bgl.loc[:,'Timestamp'].str.split(' ', n=3).str[3]\n",
    "df_bgl.loc[:,'Timestamp'] = df_bgl.loc[:,'Timestamp'].str.split(' ', n=3).str[0]\n",
    "\n",
    "print('Log file has ' + str(df_bgl.shape[0]) + ' entries and ' + str(df_bgl.shape[1]) + ' columns.')\n",
    "df_bgl.head()"
   ]
  },
  {
   "cell_type": "markdown",
   "metadata": {},
   "source": [
    "### Data Manipulation"
   ]
  },
  {
   "cell_type": "markdown",
   "metadata": {},
   "source": [
    "#### Sensitivity analysis"
   ]
  },
  {
   "cell_type": "code",
   "execution_count": 12,
   "metadata": {},
   "outputs": [
    {
     "name": "stdout",
     "output_type": "stream",
     "text": [
      "File already exists!\n",
      "\n"
     ]
    },
    {
     "data": {
      "text/plain": [
       "<matplotlib.legend.Legend at 0x2a40d4e81f0>"
      ]
     },
     "execution_count": 12,
     "metadata": {},
     "output_type": "execute_result"
    },
    {
     "data": {
      "image/png": "[encoded data removed]",
      "text/plain": [
       "<Figure size 432x288 with 1 Axes>"
      ]
     },
     "metadata": {
      "needs_background": "light"
     },
     "output_type": "display_data"
    }
   ],
   "source": [
    "c_wins = np.arange(10,510,10)\n",
    "accuracy = np.arange(50,200,1)\n",
    "c_wins = c_wins.tolist()\n",
    "c_wins.extend(accuracy)\n",
    "c_wins.sort()\n",
    "\n",
    "filepath = 'Dataset/BGLSensitivity.txt'\n",
    "sensitivity_analysis(df_bgl, c_wins, filepath)\n",
    "\n",
    "df_bgl_sensitivity = pd.read_csv(filepath, sep = \" \", names = [\"Time (s)\", \"# Tuples\"])\n",
    "\n",
    "plt.plot(df_bgl_sensitivity[\"Time (s)\"],df_bgl_sensitivity[\"# Tuples\"], label = \"# Tuples\")\n",
    "plt.xticks(np.arange(0, 500, step = 30))\n",
    "plt.yticks(np.arange(360, 700, step = 30))\n",
    "plt.xlabel(\"Time (s)\")\n",
    "plt.ylabel(\"Tuples\")\n",
    "plt.grid()\n",
    "plt.legend()"
   ]
  },
  {
   "cell_type": "markdown",
   "metadata": {},
   "source": [
    "### Temporal coalescence"
   ]
  },
  {
   "cell_type": "code",
   "execution_count": 7,
   "metadata": {
    "jupyter": {
     "source_hidden": true
    }
   },
   "outputs": [],
   "source": [
    "# # Versione Pecchia\n",
    "# logfile = 'Dataset/BGLErrorLog.txt'\n",
    "# for cwin in c_wins:\n",
    "\n",
    "#     logfiled = open(logfile,\"r\")\n",
    "#     loglines = logfiled.readlines()\n",
    "\n",
    "#     tcount=1\n",
    "\n",
    "#     i=0\n",
    "#     line = loglines[i].split()\n",
    "#     prev = line[0]\n",
    "\n",
    "#     i = i + 1\n",
    "#     while i < len(loglines):\n",
    "#         line = loglines[i].split()\n",
    "#         succ = line[0]\n",
    "\n",
    "\n",
    "#         #calcolo delta\n",
    "#         delta = int(succ) - int(prev)\n",
    "\n",
    "#         #print str(delta) +\" \" +str(cwin)\n",
    "\n",
    "#         if int(delta)<int(cwin):\n",
    "#             j=0\n",
    "#         else:\n",
    "#             tcount = int(tcount) + 1\n",
    "\n",
    "#         prev = succ\n",
    "#         i = i + 1\n",
    "\n",
    "#     print(str(cwin)+\" \"+str(tcount))\n",
    "    "
   ]
  },
  {
   "cell_type": "code",
   "execution_count": 8,
   "metadata": {
    "jupyter": {
     "source_hidden": true
    }
   },
   "outputs": [],
   "source": [
    "# # Versione Base nostra\n",
    "# c_wins = np.arange(10,510,10)\n",
    "#     tuples = []\n",
    "\n",
    "#     for win in c_wins:\n",
    "#         tup = 1\n",
    "#         prev = int(df_mercury.loc[0,'Timestamp'])\n",
    "\n",
    "#         for index in range(df_mercury.shape[0]-1):\n",
    "#             succ = int(df_mercury.loc[index+1,'Timestamp'])\n",
    "#             if  succ - prev >= win:\n",
    "#                 tup = tup + 1\n",
    "#             prev = succ\n",
    "\n",
    "#         print(str(win)+\" \"+str(tup))    \n",
    "\n",
    "#         tuples.append(tup)"
   ]
  }
 ],
 "metadata": {
  "kernelspec": {
   "display_name": "Python 3",
   "language": "python",
   "name": "python3"
  },
  "language_info": {
   "codemirror_mode": {
    "name": "ipython",
    "version": 3
   },
   "file_extension": ".py",
   "mimetype": "text/x-python",
   "name": "python",
   "nbconvert_exporter": "python",
   "pygments_lexer": "ipython3",
   "version": "3.8.3"
  },
  "toc-autonumbering": true,
  "toc-showcode": false,
  "toc-showmarkdowntxt": false,
  "toc-showtags": false
 },
 "nbformat": 4,
 "nbformat_minor": 4
}
