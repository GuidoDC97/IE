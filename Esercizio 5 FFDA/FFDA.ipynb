{
 "cells": [
  {
   "cell_type": "markdown",
   "metadata": {},
   "source": [
    "# Field Failure Data Analysis"
   ]
  },
  {
   "cell_type": "markdown",
   "metadata": {},
   "source": [
    "## Introduction"
   ]
  },
  {
   "cell_type": "code",
   "execution_count": 1,
   "metadata": {},
   "outputs": [],
   "source": [
    "# Import relevant modules\n",
    "import os\n",
    "import numpy as np\n",
    "import pandas as pd\n",
    "from matplotlib import pyplot as plt\n",
    "\n",
    "# %matplotlib notebook\n",
    "# from IPython.core.interactiveshell import InteractiveShell"
   ]
  },
  {
   "cell_type": "markdown",
   "metadata": {},
   "source": [
    "## Utility functions"
   ]
  },
  {
   "cell_type": "code",
   "execution_count": 2,
   "metadata": {},
   "outputs": [],
   "source": [
    "def sensitivity_analysis(dataframe, c_wins, filepath):\n",
    "    if(not os.path.isfile(filepath)):\n",
    "        print('Creating file, this may take a while...\\n')\n",
    "        tuples = []\n",
    "\n",
    "        for win in c_wins:\n",
    "            tup = 1\n",
    "            prev = int(dataframe.loc[0,'Timestamp'])\n",
    "\n",
    "            for index in range(dataframe.shape[0]-1):\n",
    "                succ = int(dataframe.loc[index+1,'Timestamp'])\n",
    "                if  succ - prev >= win:\n",
    "                    tup = tup + 1\n",
    "                prev = succ\n",
    "\n",
    "#             print(str(win)+' '+str(tup))    \n",
    "            tuples.append(tup)\n",
    "        \n",
    "        sens_file = open(filepath, 'w')\n",
    "        \n",
    "        for i in range(len(c_wins)):\n",
    "            sens_file.write(str(c_wins[i]) + ' ' + str(tuples[i]) + '\\n')\n",
    "        \n",
    "        sens_file.close()\n",
    "    else:\n",
    "        print('File already exists!\\n')"
   ]
  },
  {
   "cell_type": "code",
   "execution_count": 3,
   "metadata": {},
   "outputs": [],
   "source": [
    "def tupling(dataframe, c_win, filepath):\n",
    "    if(not os.path.isfile(filepath)):\n",
    "        print('Creating file, this may take a while...\\n')\n",
    "        \n",
    "        tup = 0\n",
    "        prev = int(dataframe.loc[0,'Timestamp'])\n",
    "        dataframe.loc[0,'Tuple'] = 0\n",
    "\n",
    "        for index in range(dataframe.shape[0]-1):\n",
    "            succ = int(dataframe.loc[index+1,'Timestamp'])\n",
    "            if  succ - prev >= c_win:\n",
    "                tup = tup + 1\n",
    "            dataframe.loc[index+1,'Tuple'] = tup\n",
    "            prev = succ\n",
    "            \n",
    "        dataframe.to_csv(filepath)\n",
    "        return dataframe\n",
    "    else:\n",
    "        print('File already exists!\\n')\n",
    "        dataframe = pd.read_csv(filepath, index_col = 0)\n",
    "        return dataframe"
   ]
  },
  {
   "cell_type": "markdown",
   "metadata": {},
   "source": [
    "# Mercury"
   ]
  },
  {
   "cell_type": "code",
   "execution_count": 4,
   "metadata": {},
   "outputs": [
    {
     "name": "stdout",
     "output_type": "stream",
     "text": [
      "Log file has 80854 entries and 4 columns.\n"
     ]
    },
    {
     "data": {
      "text/html": [
       "<div>\n",
       "<style scoped>\n",
       "    .dataframe tbody tr th:only-of-type {\n",
       "        vertical-align: middle;\n",
       "    }\n",
       "\n",
       "    .dataframe tbody tr th {\n",
       "        vertical-align: top;\n",
       "    }\n",
       "\n",
       "    .dataframe thead th {\n",
       "        text-align: right;\n",
       "    }\n",
       "</style>\n",
       "<table border=\"1\" class=\"dataframe\">\n",
       "  <thead>\n",
       "    <tr style=\"text-align: right;\">\n",
       "      <th></th>\n",
       "      <th>Timestamp</th>\n",
       "      <th>Node</th>\n",
       "      <th>Subsystem</th>\n",
       "      <th>Message</th>\n",
       "    </tr>\n",
       "  </thead>\n",
       "  <tbody>\n",
       "    <tr>\n",
       "      <th>0</th>\n",
       "      <td>1167637660</td>\n",
       "      <td>tg-c645</td>\n",
       "      <td>PRO</td>\n",
       "      <td>+BEGIN HARDWARE ERROR STATE AT CMC</td>\n",
       "    </tr>\n",
       "    <tr>\n",
       "      <th>1</th>\n",
       "      <td>1167637660</td>\n",
       "      <td>tg-c645</td>\n",
       "      <td>PRO</td>\n",
       "      <td>Device Error Info Section</td>\n",
       "    </tr>\n",
       "    <tr>\n",
       "      <th>2</th>\n",
       "      <td>1167637660</td>\n",
       "      <td>tg-c645</td>\n",
       "      <td>PRO</td>\n",
       "      <td>Error Map: x</td>\n",
       "    </tr>\n",
       "    <tr>\n",
       "      <th>3</th>\n",
       "      <td>1167637720</td>\n",
       "      <td>tg-c645</td>\n",
       "      <td>PRO</td>\n",
       "      <td>+BEGIN HARDWARE ERROR STATE AT CMC</td>\n",
       "    </tr>\n",
       "    <tr>\n",
       "      <th>4</th>\n",
       "      <td>1167637720</td>\n",
       "      <td>tg-c645</td>\n",
       "      <td>PRO</td>\n",
       "      <td>Device Error Info Section</td>\n",
       "    </tr>\n",
       "  </tbody>\n",
       "</table>\n",
       "</div>"
      ],
      "text/plain": [
       "    Timestamp     Node Subsystem                             Message\n",
       "0  1167637660  tg-c645       PRO  +BEGIN HARDWARE ERROR STATE AT CMC\n",
       "1  1167637660  tg-c645       PRO           Device Error Info Section\n",
       "2  1167637660  tg-c645       PRO                        Error Map: x\n",
       "3  1167637720  tg-c645       PRO  +BEGIN HARDWARE ERROR STATE AT CMC\n",
       "4  1167637720  tg-c645       PRO           Device Error Info Section"
      ]
     },
     "execution_count": 4,
     "metadata": {},
     "output_type": "execute_result"
    }
   ],
   "source": [
    "# Load Mercury Data\n",
    "df_mercury = pd.read_csv('Dataset/MercuryErrorLog.txt', names = ['Timestamp', 'Node', 'Subsystem', 'Message'])\n",
    "\n",
    "df_mercury.loc[:,'Node'] = df_mercury.loc[:,'Timestamp'].str.split(' ', n=3).str[1]\n",
    "df_mercury.loc[:,'Subsystem'] = df_mercury.loc[:,'Timestamp'].str.split(' ', n=3).str[2]\n",
    "df_mercury.loc[:,'Message'] = df_mercury.loc[:,'Timestamp'].str.split(' ', n=3).str[3]\n",
    "df_mercury.loc[:,'Timestamp'] = df_mercury.loc[:,'Timestamp'].str.split(' ', n=3).str[0]\n",
    "\n",
    "print('Log file has ' + str(df_mercury.shape[0]) + ' entries and ' + str(df_mercury.shape[1]) + ' columns.')\n",
    "df_mercury.head()"
   ]
  },
  {
   "cell_type": "markdown",
   "metadata": {},
   "source": [
    "## Data Manipulation"
   ]
  },
  {
   "cell_type": "markdown",
   "metadata": {},
   "source": [
    "### Temporal coalescence"
   ]
  },
  {
   "cell_type": "markdown",
   "metadata": {},
   "source": [
    "#### Sensitivity analysis"
   ]
  },
  {
   "cell_type": "code",
   "execution_count": 5,
   "metadata": {},
   "outputs": [
    {
     "name": "stdout",
     "output_type": "stream",
     "text": [
      "File already exists!\n",
      "\n"
     ]
    },
    {
     "data": {
      "image/png": "[encoded data removed]",
      "text/plain": [
       "<Figure size 432x288 with 1 Axes>"
      ]
     },
     "metadata": {
      "needs_background": "light"
     },
     "output_type": "display_data"
    }
   ],
   "source": [
    "c_wins = np.arange(10,510,10)\n",
    "accuracy = np.arange(50,150,1)\n",
    "c_wins = c_wins.tolist()\n",
    "c_wins.extend(accuracy)\n",
    "c_wins.sort()\n",
    "\n",
    "filepath = 'Dataset/MercurySensitivity.txt'\n",
    "sensitivity_analysis(df_mercury, c_wins, filepath)\n",
    "\n",
    "df_mercury_sensitivity = pd.read_csv(filepath, sep = ' ', names = ['Window', 'Tuples'])\n",
    "\n",
    "plt.plot(df_mercury_sensitivity['Window'],df_mercury_sensitivity['Tuples'], label = '# Tuples')\n",
    "plt.xticks(np.arange(0, 500, step = 30))\n",
    "plt.xlabel('Window (s)')\n",
    "plt.ylabel('Tuples')\n",
    "plt.legend()\n",
    "plt.grid()"
   ]
  },
  {
   "cell_type": "code",
   "execution_count": 6,
   "metadata": {},
   "outputs": [
    {
     "name": "stdout",
     "output_type": "stream",
     "text": [
      "File already exists!\n",
      "\n"
     ]
    },
    {
     "data": {
      "image/png": "[encoded data removed]",
      "text/plain": [
       "<Figure size 720x432 with 1 Axes>"
      ]
     },
     "metadata": {
      "needs_background": "light"
     },
     "output_type": "display_data"
    }
   ],
   "source": [
    "c_wins = np.arange(0,2000,10)\n",
    "\n",
    "filepath = 'Dataset/MercurySensitivityAcc.txt'\n",
    "sensitivity_analysis(df_mercury, c_wins, filepath)\n",
    "\n",
    "df_mercury_sensitivity = pd.read_csv(filepath, sep = ' ', names = ['Window', 'Tuples'])\n",
    "\n",
    "plt.figure(figsize=(10,6))\n",
    "\n",
    "plt.plot(df_mercury_sensitivity['Window'],df_mercury_sensitivity['Tuples'], label = '# Tuples')\n",
    "\n",
    "plt.xlabel('Window (s)')\n",
    "plt.ylabel('Tuples')\n",
    "plt.legend()\n",
    "plt.grid()"
   ]
  },
  {
   "cell_type": "markdown",
   "metadata": {},
   "source": [
    "#### Tupling"
   ]
  },
  {
   "cell_type": "code",
   "execution_count": 7,
   "metadata": {},
   "outputs": [
    {
     "name": "stdout",
     "output_type": "stream",
     "text": [
      "File already exists!\n",
      "\n"
     ]
    },
    {
     "data": {
      "text/html": [
       "<div>\n",
       "<style scoped>\n",
       "    .dataframe tbody tr th:only-of-type {\n",
       "        vertical-align: middle;\n",
       "    }\n",
       "\n",
       "    .dataframe tbody tr th {\n",
       "        vertical-align: top;\n",
       "    }\n",
       "\n",
       "    .dataframe thead th {\n",
       "        text-align: right;\n",
       "    }\n",
       "</style>\n",
       "<table border=\"1\" class=\"dataframe\">\n",
       "  <thead>\n",
       "    <tr style=\"text-align: right;\">\n",
       "      <th></th>\n",
       "      <th>Timestamp</th>\n",
       "      <th>Node</th>\n",
       "      <th>Subsystem</th>\n",
       "      <th>Message</th>\n",
       "      <th>Tuple</th>\n",
       "    </tr>\n",
       "  </thead>\n",
       "  <tbody>\n",
       "    <tr>\n",
       "      <th>0</th>\n",
       "      <td>1167637660</td>\n",
       "      <td>tg-c645</td>\n",
       "      <td>PRO</td>\n",
       "      <td>+BEGIN HARDWARE ERROR STATE AT CMC</td>\n",
       "      <td>0</td>\n",
       "    </tr>\n",
       "    <tr>\n",
       "      <th>1</th>\n",
       "      <td>1167637660</td>\n",
       "      <td>tg-c645</td>\n",
       "      <td>PRO</td>\n",
       "      <td>Device Error Info Section</td>\n",
       "      <td>0</td>\n",
       "    </tr>\n",
       "    <tr>\n",
       "      <th>2</th>\n",
       "      <td>1167637660</td>\n",
       "      <td>tg-c645</td>\n",
       "      <td>PRO</td>\n",
       "      <td>Error Map: x</td>\n",
       "      <td>0</td>\n",
       "    </tr>\n",
       "    <tr>\n",
       "      <th>3</th>\n",
       "      <td>1167637720</td>\n",
       "      <td>tg-c645</td>\n",
       "      <td>PRO</td>\n",
       "      <td>+BEGIN HARDWARE ERROR STATE AT CMC</td>\n",
       "      <td>0</td>\n",
       "    </tr>\n",
       "    <tr>\n",
       "      <th>4</th>\n",
       "      <td>1167637720</td>\n",
       "      <td>tg-c645</td>\n",
       "      <td>PRO</td>\n",
       "      <td>Device Error Info Section</td>\n",
       "      <td>0</td>\n",
       "    </tr>\n",
       "  </tbody>\n",
       "</table>\n",
       "</div>"
      ],
      "text/plain": [
       "    Timestamp     Node Subsystem                             Message  Tuple\n",
       "0  1167637660  tg-c645       PRO  +BEGIN HARDWARE ERROR STATE AT CMC      0\n",
       "1  1167637660  tg-c645       PRO           Device Error Info Section      0\n",
       "2  1167637660  tg-c645       PRO                        Error Map: x      0\n",
       "3  1167637720  tg-c645       PRO  +BEGIN HARDWARE ERROR STATE AT CMC      0\n",
       "4  1167637720  tg-c645       PRO           Device Error Info Section      0"
      ]
     },
     "execution_count": 7,
     "metadata": {},
     "output_type": "execute_result"
    }
   ],
   "source": [
    "window = 250\n",
    "filepath = 'Dataset/MercuryData.csv'\n",
    "df_mercury = tupling(df_mercury, window, filepath)\n",
    "\n",
    "df_mercury = df_mercury.astype({'Timestamp' : 'int32', 'Tuple' : 'int32'})\n",
    "\n",
    "df_mercury.head()"
   ]
  },
  {
   "cell_type": "code",
   "execution_count": 8,
   "metadata": {},
   "outputs": [
    {
     "name": "stdout",
     "output_type": "stream",
     "text": [
      "Number of tuples: 469\n"
     ]
    }
   ],
   "source": [
    "print('Number of tuples: ' + str(df_mercury.max(axis = 0).loc['Tuple'] + 1))"
   ]
  },
  {
   "cell_type": "code",
   "execution_count": 9,
   "metadata": {},
   "outputs": [
    {
     "data": {
      "text/html": [
       "<div>\n",
       "<style scoped>\n",
       "    .dataframe tbody tr th:only-of-type {\n",
       "        vertical-align: middle;\n",
       "    }\n",
       "\n",
       "    .dataframe tbody tr th {\n",
       "        vertical-align: top;\n",
       "    }\n",
       "\n",
       "    .dataframe thead th {\n",
       "        text-align: right;\n",
       "    }\n",
       "</style>\n",
       "<table border=\"1\" class=\"dataframe\">\n",
       "  <thead>\n",
       "    <tr style=\"text-align: right;\">\n",
       "      <th></th>\n",
       "      <th># Entries</th>\n",
       "      <th>Start time</th>\n",
       "      <th>End time</th>\n",
       "      <th>Length</th>\n",
       "      <th>Density</th>\n",
       "      <th>Interarrival</th>\n",
       "    </tr>\n",
       "    <tr>\n",
       "      <th>Tuple</th>\n",
       "      <th></th>\n",
       "      <th></th>\n",
       "      <th></th>\n",
       "      <th></th>\n",
       "      <th></th>\n",
       "      <th></th>\n",
       "    </tr>\n",
       "  </thead>\n",
       "  <tbody>\n",
       "    <tr>\n",
       "      <th>0</th>\n",
       "      <td>6</td>\n",
       "      <td>1167637660</td>\n",
       "      <td>1167637720</td>\n",
       "      <td>60</td>\n",
       "      <td>0.100000</td>\n",
       "      <td>NaN</td>\n",
       "    </tr>\n",
       "    <tr>\n",
       "      <th>1</th>\n",
       "      <td>3</td>\n",
       "      <td>1167655228</td>\n",
       "      <td>1167655229</td>\n",
       "      <td>1</td>\n",
       "      <td>3.000000</td>\n",
       "      <td>17508.0</td>\n",
       "    </tr>\n",
       "    <tr>\n",
       "      <th>2</th>\n",
       "      <td>75</td>\n",
       "      <td>1167657137</td>\n",
       "      <td>1167657550</td>\n",
       "      <td>413</td>\n",
       "      <td>0.181598</td>\n",
       "      <td>1908.0</td>\n",
       "    </tr>\n",
       "    <tr>\n",
       "      <th>3</th>\n",
       "      <td>2</td>\n",
       "      <td>1167657941</td>\n",
       "      <td>1167657941</td>\n",
       "      <td>0</td>\n",
       "      <td>inf</td>\n",
       "      <td>391.0</td>\n",
       "    </tr>\n",
       "    <tr>\n",
       "      <th>4</th>\n",
       "      <td>27</td>\n",
       "      <td>1167658201</td>\n",
       "      <td>1167658456</td>\n",
       "      <td>255</td>\n",
       "      <td>0.105882</td>\n",
       "      <td>260.0</td>\n",
       "    </tr>\n",
       "  </tbody>\n",
       "</table>\n",
       "</div>"
      ],
      "text/plain": [
       "       # Entries  Start time    End time  Length   Density  Interarrival\n",
       "Tuple                                                                   \n",
       "0              6  1167637660  1167637720      60  0.100000           NaN\n",
       "1              3  1167655228  1167655229       1  3.000000       17508.0\n",
       "2             75  1167657137  1167657550     413  0.181598        1908.0\n",
       "3              2  1167657941  1167657941       0       inf         391.0\n",
       "4             27  1167658201  1167658456     255  0.105882         260.0"
      ]
     },
     "execution_count": 9,
     "metadata": {},
     "output_type": "execute_result"
    }
   ],
   "source": [
    "df_stat = pd.DataFrame(columns=['# Entries', 'Start time', 'End time', 'Length', 'Density', 'Interarrival'])\n",
    "\n",
    "df_stat['# Entries'] = df_mercury.groupby(by='Tuple').count()['Timestamp']\n",
    "df_stat['Start time'] =  df_mercury.groupby(by='Tuple').min(numeric_only = True)['Timestamp']\n",
    "df_stat['End time'] =  df_mercury.groupby(by='Tuple').max(numeric_only = True)['Timestamp']\n",
    "df_stat['Length'] =  df_stat['End time'] - df_stat['Start time']\n",
    "df_stat['Density'] = df_stat['# Entries'] / df_stat['Length']\n",
    "df_temp = pd.DataFrame(data = {'Start time' : [np.nan]})\n",
    "df_temp = df_temp.append(df_stat, ignore_index = True)\n",
    "df_stat['Interarrival'] = (df_stat['Start time'] - df_temp['End time']).dropna().astype(int)\n",
    "df_stat['Interarrival']\n",
    "df_stat.head()"
   ]
  },
  {
   "cell_type": "code",
   "execution_count": 10,
   "metadata": {},
   "outputs": [
    {
     "data": {
      "image/png": "[encoded data removed]",
      "text/plain": [
       "<Figure size 864x432 with 1 Axes>"
      ]
     },
     "metadata": {
      "needs_background": "light"
     },
     "output_type": "display_data"
    }
   ],
   "source": [
    "x = df_stat.index\n",
    "y = df_stat['# Entries']\n",
    "\n",
    "plt.figure(figsize=(12,6))\n",
    "\n",
    "plt.scatter(x, y, marker = '.')\n",
    "\n",
    "plt.xlabel('Tuples')\n",
    "plt.ylabel('Log entries')\n",
    "plt.show()"
   ]
  },
  {
   "cell_type": "markdown",
   "metadata": {},
   "source": [
    "### Spatial coalescence"
   ]
  },
  {
   "cell_type": "code",
   "execution_count": 11,
   "metadata": {},
   "outputs": [],
   "source": [
    "df_mercury.loc[df_mercury['Node'].str.contains('login'), 'Type'] = 'login'\n",
    "df_mercury.loc[df_mercury['Node'].str.contains('c'), 'Type'] = 'computation'\n",
    "df_mercury.loc[df_mercury['Node'].str.contains('s'), 'Type'] = 'storage'\n",
    "df_mercury.loc[df_mercury['Node'].str.contains('master'), 'Type'] = 'master'"
   ]
  },
  {
   "cell_type": "code",
   "execution_count": 12,
   "metadata": {},
   "outputs": [
    {
     "name": "stdout",
     "output_type": "stream",
     "text": [
      "Number of nodes that generates error: 53\n"
     ]
    }
   ],
   "source": [
    "print('Number of nodes that generates error: ' + str(len(df_mercury['Node'].unique())))"
   ]
  },
  {
   "cell_type": "code",
   "execution_count": 13,
   "metadata": {},
   "outputs": [
    {
     "data": {
      "image/png": "[encoded data removed]",
      "text/plain": [
       "<Figure size 432x864 with 1 Axes>"
      ]
     },
     "metadata": {
      "needs_background": "light"
     },
     "output_type": "display_data"
    }
   ],
   "source": [
    "plt.figure(figsize=(6,12))\n",
    "df_mercury.groupby(by='Node').Timestamp.count().sort_values().plot.barh()\n",
    "plt.show()"
   ]
  },
  {
   "cell_type": "code",
   "execution_count": 14,
   "metadata": {},
   "outputs": [
    {
     "data": {
      "image/png": "[encoded data removed]",
      "text/plain": [
       "<Figure size 864x432 with 1 Axes>"
      ]
     },
     "metadata": {
      "needs_background": "light"
     },
     "output_type": "display_data"
    }
   ],
   "source": [
    "plt.figure(figsize=(12,6))\n",
    "df_mercury.groupby(by=['Type']).Timestamp.count().sort_values(ascending = False).plot.bar()\n",
    "plt.show()"
   ]
  },
  {
   "cell_type": "markdown",
   "metadata": {},
   "source": [
    "### Content-based coalescence"
   ]
  },
  {
   "cell_type": "code",
   "execution_count": 15,
   "metadata": {},
   "outputs": [
    {
     "data": {
      "image/png": "[encoded data removed]",
      "text/plain": [
       "<Figure size 864x432 with 1 Axes>"
      ]
     },
     "metadata": {
      "needs_background": "light"
     },
     "output_type": "display_data"
    }
   ],
   "source": [
    "plt.figure(figsize=(12,6))\n",
    "df_mercury.groupby(by=['Subsystem']).Timestamp.count().sort_values(ascending = False).plot.bar()\n",
    "plt.show()"
   ]
  },
  {
   "cell_type": "markdown",
   "metadata": {},
   "source": [
    "### Truncation analysis"
   ]
  },
  {
   "cell_type": "code",
   "execution_count": 33,
   "metadata": {},
   "outputs": [
    {
     "name": "stdout",
     "output_type": "stream",
     "text": [
      "0.1 Quantile: 491.90000000000003\n"
     ]
    }
   ],
   "source": [
    "q = df_stat['Interarrival'].quantile(q=0.1)\n",
    "print(\"0.1 Quantile: \" + str(q))"
   ]
  },
  {
   "cell_type": "code",
   "execution_count": 34,
   "metadata": {},
   "outputs": [
    {
     "data": {
      "text/html": [
       "<div>\n",
       "<style scoped>\n",
       "    .dataframe tbody tr th:only-of-type {\n",
       "        vertical-align: middle;\n",
       "    }\n",
       "\n",
       "    .dataframe tbody tr th {\n",
       "        vertical-align: top;\n",
       "    }\n",
       "\n",
       "    .dataframe thead th {\n",
       "        text-align: right;\n",
       "    }\n",
       "</style>\n",
       "<table border=\"1\" class=\"dataframe\">\n",
       "  <thead>\n",
       "    <tr style=\"text-align: right;\">\n",
       "      <th></th>\n",
       "      <th></th>\n",
       "      <th>Timestamp</th>\n",
       "      <th>Subsystem</th>\n",
       "      <th>Message</th>\n",
       "      <th>Type</th>\n",
       "    </tr>\n",
       "    <tr>\n",
       "      <th>Tuple</th>\n",
       "      <th>Node</th>\n",
       "      <th></th>\n",
       "      <th></th>\n",
       "      <th></th>\n",
       "      <th></th>\n",
       "    </tr>\n",
       "  </thead>\n",
       "  <tbody>\n",
       "    <tr>\n",
       "      <th>466</th>\n",
       "      <th>tg-master</th>\n",
       "      <td>4</td>\n",
       "      <td>4</td>\n",
       "      <td>4</td>\n",
       "      <td>4</td>\n",
       "    </tr>\n",
       "    <tr>\n",
       "      <th rowspan=\"3\" valign=\"top\">467</th>\n",
       "      <th>tg-c128</th>\n",
       "      <td>2</td>\n",
       "      <td>2</td>\n",
       "      <td>2</td>\n",
       "      <td>2</td>\n",
       "    </tr>\n",
       "    <tr>\n",
       "      <th>tg-c196</th>\n",
       "      <td>2</td>\n",
       "      <td>2</td>\n",
       "      <td>2</td>\n",
       "      <td>2</td>\n",
       "    </tr>\n",
       "    <tr>\n",
       "      <th>tg-master</th>\n",
       "      <td>558</td>\n",
       "      <td>558</td>\n",
       "      <td>558</td>\n",
       "      <td>558</td>\n",
       "    </tr>\n",
       "    <tr>\n",
       "      <th>468</th>\n",
       "      <th>tg-c196</th>\n",
       "      <td>2</td>\n",
       "      <td>2</td>\n",
       "      <td>2</td>\n",
       "      <td>2</td>\n",
       "    </tr>\n",
       "  </tbody>\n",
       "</table>\n",
       "</div>"
      ],
      "text/plain": [
       "                 Timestamp  Subsystem  Message  Type\n",
       "Tuple Node                                          \n",
       "466   tg-master          4          4        4     4\n",
       "467   tg-c128            2          2        2     2\n",
       "      tg-c196            2          2        2     2\n",
       "      tg-master        558        558      558   558\n",
       "468   tg-c196            2          2        2     2"
      ]
     },
     "execution_count": 34,
     "metadata": {},
     "output_type": "execute_result"
    }
   ],
   "source": [
    "df_group = df_mercury.groupby(by=['Tuple','Node']).count()\n",
    "\n",
    "df_group.tail()"
   ]
  },
  {
   "cell_type": "code",
   "execution_count": 35,
   "metadata": {},
   "outputs": [
    {
     "data": {
      "text/html": [
       "<div>\n",
       "<style scoped>\n",
       "    .dataframe tbody tr th:only-of-type {\n",
       "        vertical-align: middle;\n",
       "    }\n",
       "\n",
       "    .dataframe tbody tr th {\n",
       "        vertical-align: top;\n",
       "    }\n",
       "\n",
       "    .dataframe thead th {\n",
       "        text-align: right;\n",
       "    }\n",
       "</style>\n",
       "<table border=\"1\" class=\"dataframe\">\n",
       "  <thead>\n",
       "    <tr style=\"text-align: right;\">\n",
       "      <th></th>\n",
       "      <th># Entries</th>\n",
       "      <th>Start time</th>\n",
       "      <th>End time</th>\n",
       "      <th>Length</th>\n",
       "      <th>Density</th>\n",
       "      <th>Interarrival</th>\n",
       "    </tr>\n",
       "    <tr>\n",
       "      <th>Tuple</th>\n",
       "      <th></th>\n",
       "      <th></th>\n",
       "      <th></th>\n",
       "      <th></th>\n",
       "      <th></th>\n",
       "      <th></th>\n",
       "    </tr>\n",
       "  </thead>\n",
       "  <tbody>\n",
       "    <tr>\n",
       "      <th>3</th>\n",
       "      <td>2</td>\n",
       "      <td>1167657941</td>\n",
       "      <td>1167657941</td>\n",
       "      <td>0</td>\n",
       "      <td>inf</td>\n",
       "      <td>391.0</td>\n",
       "    </tr>\n",
       "    <tr>\n",
       "      <th>4</th>\n",
       "      <td>27</td>\n",
       "      <td>1167658201</td>\n",
       "      <td>1167658456</td>\n",
       "      <td>255</td>\n",
       "      <td>0.105882</td>\n",
       "      <td>260.0</td>\n",
       "    </tr>\n",
       "    <tr>\n",
       "      <th>5</th>\n",
       "      <td>825</td>\n",
       "      <td>1167658913</td>\n",
       "      <td>1167665307</td>\n",
       "      <td>6394</td>\n",
       "      <td>0.129027</td>\n",
       "      <td>457.0</td>\n",
       "    </tr>\n",
       "    <tr>\n",
       "      <th>6</th>\n",
       "      <td>22</td>\n",
       "      <td>1167665787</td>\n",
       "      <td>1167665982</td>\n",
       "      <td>195</td>\n",
       "      <td>0.112821</td>\n",
       "      <td>480.0</td>\n",
       "    </tr>\n",
       "    <tr>\n",
       "      <th>9</th>\n",
       "      <td>17</td>\n",
       "      <td>1167669001</td>\n",
       "      <td>1167669463</td>\n",
       "      <td>462</td>\n",
       "      <td>0.036797</td>\n",
       "      <td>377.0</td>\n",
       "    </tr>\n",
       "  </tbody>\n",
       "</table>\n",
       "</div>"
      ],
      "text/plain": [
       "       # Entries  Start time    End time  Length   Density  Interarrival\n",
       "Tuple                                                                   \n",
       "3              2  1167657941  1167657941       0       inf         391.0\n",
       "4             27  1167658201  1167658456     255  0.105882         260.0\n",
       "5            825  1167658913  1167665307    6394  0.129027         457.0\n",
       "6             22  1167665787  1167665982     195  0.112821         480.0\n",
       "9             17  1167669001  1167669463     462  0.036797         377.0"
      ]
     },
     "execution_count": 35,
     "metadata": {},
     "output_type": "execute_result"
    }
   ],
   "source": [
    "df_trunc = df_stat.loc[df_stat['Interarrival'] <= q]\n",
    "\n",
    "df_trunc.head()"
   ]
  },
  {
   "cell_type": "code",
   "execution_count": 50,
   "metadata": {},
   "outputs": [],
   "source": [
    "df_group = df_group.reset_index(level = 1)\n",
    "\n",
    "truncated = 0\n",
    "for tup in df_trunc.index:\n",
    "\n",
    "    df_tup = df_group.loc[df_group.index == tup]    \n",
    "#     node = df_tup.max()['Node']\n",
    "    node = df_tup.loc[df_tup['Timestamp'] == df_tup.max()['Timestamp']].iloc[0]['Node']\n",
    "#     print('Tupla: ', tup, '\\n', 'Node: ', node)\n",
    "    \n",
    "    df_tup_prec = df_group.loc[df_group.index == tup-1]\n",
    "#     node_prec = df_tup_prec.max()['Node']\n",
    "    node_prec = df_tup_prec.loc[df_tup_prec['Timestamp'] == df_tup_prec.max()['Timestamp']].iloc[0]['Node']\n",
    "#     print('Tupla prec.: ', tup-1, '\\n', 'Node: ', node_prec)\n",
    "    \n",
    "    if node == node_prec:\n",
    "#         print('Truncation detected')\n",
    "        truncated = truncated +1\n",
    "    \n",
    "    \n",
    "#     print('\\n\\n')"
   ]
  },
  {
   "cell_type": "code",
   "execution_count": 69,
   "metadata": {},
   "outputs": [
    {
     "name": "stdout",
     "output_type": "stream",
     "text": [
      "Estimate percentage of truncation:  8.102345415778252\n"
     ]
    }
   ],
   "source": [
    "num_tuple = df_mercury.max(axis = 0).loc['Tuple'] + 1\n",
    "perc_trunc = (truncated/num_tuple)*100\n",
    "\n",
    "print('Estimate percentage of truncation: ', perc_trunc)"
   ]
  },
  {
   "cell_type": "code",
   "execution_count": 70,
   "metadata": {},
   "outputs": [],
   "source": [
    "collided = 0\n",
    "for tup in df_group.index.unique():\n",
    "    if df_group.loc[df_group.index == tup].shape[0] > 1:\n",
    "        collided = collided + 1\n"
   ]
  },
  {
   "cell_type": "code",
   "execution_count": 71,
   "metadata": {},
   "outputs": [
    {
     "name": "stdout",
     "output_type": "stream",
     "text": [
      "Estimate percentage of collision:  10.874200426439232\n"
     ]
    }
   ],
   "source": [
    "perc_coll = (collided/num_tuple)*100\n",
    "\n",
    "print('Estimate percentage of collision: ', perc_coll)"
   ]
  }
 ],
 "metadata": {
  "kernelspec": {
   "display_name": "Python 3",
   "language": "python",
   "name": "python3"
  },
  "language_info": {
   "codemirror_mode": {
    "name": "ipython",
    "version": 3
   },
   "file_extension": ".py",
   "mimetype": "text/x-python",
   "name": "python",
   "nbconvert_exporter": "python",
   "pygments_lexer": "ipython3",
   "version": "3.8.3"
  },
  "toc-autonumbering": true,
  "toc-showcode": false,
  "toc-showmarkdowntxt": false,
  "toc-showtags": false
 },
 "nbformat": 4,
 "nbformat_minor": 4
}
