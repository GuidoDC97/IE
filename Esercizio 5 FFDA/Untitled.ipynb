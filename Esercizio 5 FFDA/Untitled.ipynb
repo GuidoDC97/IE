{
 "cells": [
  {
   "cell_type": "markdown",
   "metadata": {},
   "source": [
    "## Blue Gene/L"
   ]
  },
  {
   "cell_type": "code",
   "execution_count": 10,
   "metadata": {},
   "outputs": [
    {
     "name": "stdout",
     "output_type": "stream",
     "text": [
      "Log file has 125624 entries and 4 columns.\n"
     ]
    },
    {
     "data": {
      "text/html": [
       "<div>\n",
       "<style scoped>\n",
       "    .dataframe tbody tr th:only-of-type {\n",
       "        vertical-align: middle;\n",
       "    }\n",
       "\n",
       "    .dataframe tbody tr th {\n",
       "        vertical-align: top;\n",
       "    }\n",
       "\n",
       "    .dataframe thead th {\n",
       "        text-align: right;\n",
       "    }\n",
       "</style>\n",
       "<table border=\"1\" class=\"dataframe\">\n",
       "  <thead>\n",
       "    <tr style=\"text-align: right;\">\n",
       "      <th></th>\n",
       "      <th>Timestamp</th>\n",
       "      <th>Node</th>\n",
       "      <th>Card</th>\n",
       "      <th>Message</th>\n",
       "    </tr>\n",
       "  </thead>\n",
       "  <tbody>\n",
       "    <tr>\n",
       "      <th>0</th>\n",
       "      <td>1128621350</td>\n",
       "      <td>R00-M0-N0</td>\n",
       "      <td>J18-U01</td>\n",
       "      <td>Lustre mount FAILED : bglio2 : block_id : loc...</td>\n",
       "    </tr>\n",
       "    <tr>\n",
       "      <th>1</th>\n",
       "      <td>1128621350</td>\n",
       "      <td>R01-M1-N0</td>\n",
       "      <td>J18-U11</td>\n",
       "      <td>Lustre mount FAILED : bglio21 : block_id : lo...</td>\n",
       "    </tr>\n",
       "    <tr>\n",
       "      <th>2</th>\n",
       "      <td>1128621351</td>\n",
       "      <td>R07-M0-NC</td>\n",
       "      <td>J18-U01</td>\n",
       "      <td>Lustre mount FAILED : bglio124 : block_id : l...</td>\n",
       "    </tr>\n",
       "    <tr>\n",
       "      <th>3</th>\n",
       "      <td>1128621351</td>\n",
       "      <td>R00-M0-N4</td>\n",
       "      <td>J18-U01</td>\n",
       "      <td>Lustre mount FAILED : bglio4 : block_id : loc...</td>\n",
       "    </tr>\n",
       "    <tr>\n",
       "      <th>4</th>\n",
       "      <td>1128621351</td>\n",
       "      <td>R02-M0-N4</td>\n",
       "      <td>J18-U01</td>\n",
       "      <td>Lustre mount FAILED : bglio36 : block_id : lo...</td>\n",
       "    </tr>\n",
       "  </tbody>\n",
       "</table>\n",
       "</div>"
      ],
      "text/plain": [
       "    Timestamp       Node     Card  \\\n",
       "0  1128621350  R00-M0-N0  J18-U01   \n",
       "1  1128621350  R01-M1-N0  J18-U11   \n",
       "2  1128621351  R07-M0-NC  J18-U01   \n",
       "3  1128621351  R00-M0-N4  J18-U01   \n",
       "4  1128621351  R02-M0-N4  J18-U01   \n",
       "\n",
       "                                             Message  \n",
       "0   Lustre mount FAILED : bglio2 : block_id : loc...  \n",
       "1   Lustre mount FAILED : bglio21 : block_id : lo...  \n",
       "2   Lustre mount FAILED : bglio124 : block_id : l...  \n",
       "3   Lustre mount FAILED : bglio4 : block_id : loc...  \n",
       "4   Lustre mount FAILED : bglio36 : block_id : lo...  "
      ]
     },
     "execution_count": 10,
     "metadata": {},
     "output_type": "execute_result"
    }
   ],
   "source": [
    "# Load Blue Gene Data\n",
    "df_bgl = pd.read_csv('Dataset/BGLErrorLog.txt', names = ['Timestamp', 'Node', 'Card', 'Message'])\n",
    "\n",
    "df_bgl.loc[:,'Node'] = df_bgl.loc[:,'Timestamp'].str.split(' ', n=3).str[1]\n",
    "df_bgl.loc[:,'Card'] = df_bgl.loc[:,'Timestamp'].str.split(' ', n=3).str[2]\n",
    "df_bgl.loc[:,'Message'] = df_bgl.loc[:,'Timestamp'].str.split(' ', n=3).str[3]\n",
    "df_bgl.loc[:,'Timestamp'] = df_bgl.loc[:,'Timestamp'].str.split(' ', n=3).str[0]\n",
    "\n",
    "print('Log file has ' + str(df_bgl.shape[0]) + ' entries and ' + str(df_bgl.shape[1]) + ' columns.')\n",
    "df_bgl.head()"
   ]
  },
  {
   "cell_type": "markdown",
   "metadata": {},
   "source": [
    "### Data Manipulation"
   ]
  },
  {
   "cell_type": "markdown",
   "metadata": {},
   "source": [
    "#### Sensitivity analysis"
   ]
  },
  {
   "cell_type": "code",
   "execution_count": 11,
   "metadata": {},
   "outputs": [
    {
     "name": "stdout",
     "output_type": "stream",
     "text": [
      "File already exists!\n",
      "\n"
     ]
    },
    {
     "data": {
      "text/plain": [
       "<matplotlib.legend.Legend at 0x28c6db5aca0>"
      ]
     },
     "execution_count": 11,
     "metadata": {},
     "output_type": "execute_result"
    },
    {
     "data": {
      "image/png": "[encoded data removed]",
      "text/plain": [
       "<Figure size 432x288 with 1 Axes>"
      ]
     },
     "metadata": {
      "needs_background": "light"
     },
     "output_type": "display_data"
    }
   ],
   "source": [
    "c_wins = np.arange(10,510,10)\n",
    "accuracy = np.arange(50,200,1)\n",
    "c_wins = c_wins.tolist()\n",
    "c_wins.extend(accuracy)\n",
    "c_wins.sort()\n",
    "\n",
    "filepath = 'Dataset/BGLSensitivity.txt'\n",
    "sensitivity_analysis(df_bgl, c_wins, filepath)\n",
    "\n",
    "df_bgl_sensitivity = pd.read_csv(filepath, sep = ' ', names = ['Window', 'Tuples'])\n",
    "\n",
    "plt.plot(df_bgl_sensitivity['Window'],df_bgl_sensitivity['Tuples'], label = '# Tuples')\n",
    "plt.xticks(np.arange(0, 500, step = 30))\n",
    "plt.yticks(np.arange(360, 700, step = 30))\n",
    "plt.xlabel('Window (s)')\n",
    "plt.ylabel('Tuples')\n",
    "plt.grid()\n",
    "plt.legend()"
   ]
  }
 ],
 "metadata": {
  "kernelspec": {
   "display_name": "Python 3",
   "language": "python",
   "name": "python3"
  },
  "language_info": {
   "codemirror_mode": {
    "name": "ipython",
    "version": 3
   },
   "file_extension": ".py",
   "mimetype": "text/x-python",
   "name": "python",
   "nbconvert_exporter": "python",
   "pygments_lexer": "ipython3",
   "version": "3.8.3"
  }
 },
 "nbformat": 4,
 "nbformat_minor": 4
}
